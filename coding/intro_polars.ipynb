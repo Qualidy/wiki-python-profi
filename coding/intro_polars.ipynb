{
 "cells": [
  {
   "cell_type": "code",
   "execution_count": 1,
   "metadata": {},
   "outputs": [
    {
     "name": "stdout",
     "output_type": "stream",
     "text": [
      "Requirement already satisfied: polars in /Users/paulkenntner/Documents/Co-dex/Aldi_schulung/.venv/lib/python3.12/site-packages (1.9.0)\n",
      "\n",
      "\u001b[1m[\u001b[0m\u001b[34;49mnotice\u001b[0m\u001b[1;39;49m]\u001b[0m\u001b[39;49m A new release of pip is available: \u001b[0m\u001b[31;49m24.0\u001b[0m\u001b[39;49m -> \u001b[0m\u001b[32;49m24.2\u001b[0m\n",
      "\u001b[1m[\u001b[0m\u001b[34;49mnotice\u001b[0m\u001b[1;39;49m]\u001b[0m\u001b[39;49m To update, run: \u001b[0m\u001b[32;49mpip install --upgrade pip\u001b[0m\n",
      "Note: you may need to restart the kernel to use updated packages.\n",
      "Requirement already satisfied: pandas in /Users/paulkenntner/Documents/Co-dex/Aldi_schulung/.venv/lib/python3.12/site-packages (2.2.3)\n",
      "Requirement already satisfied: numpy>=1.26.0 in /Users/paulkenntner/Documents/Co-dex/Aldi_schulung/.venv/lib/python3.12/site-packages (from pandas) (2.1.1)\n",
      "Requirement already satisfied: python-dateutil>=2.8.2 in /Users/paulkenntner/Documents/Co-dex/Aldi_schulung/.venv/lib/python3.12/site-packages (from pandas) (2.9.0.post0)\n",
      "Requirement already satisfied: pytz>=2020.1 in /Users/paulkenntner/Documents/Co-dex/Aldi_schulung/.venv/lib/python3.12/site-packages (from pandas) (2024.2)\n",
      "Requirement already satisfied: tzdata>=2022.7 in /Users/paulkenntner/Documents/Co-dex/Aldi_schulung/.venv/lib/python3.12/site-packages (from pandas) (2024.2)\n",
      "Requirement already satisfied: six>=1.5 in /Users/paulkenntner/Documents/Co-dex/Aldi_schulung/.venv/lib/python3.12/site-packages (from python-dateutil>=2.8.2->pandas) (1.16.0)\n",
      "\n",
      "\u001b[1m[\u001b[0m\u001b[34;49mnotice\u001b[0m\u001b[1;39;49m]\u001b[0m\u001b[39;49m A new release of pip is available: \u001b[0m\u001b[31;49m24.0\u001b[0m\u001b[39;49m -> \u001b[0m\u001b[32;49m24.2\u001b[0m\n",
      "\u001b[1m[\u001b[0m\u001b[34;49mnotice\u001b[0m\u001b[1;39;49m]\u001b[0m\u001b[39;49m To update, run: \u001b[0m\u001b[32;49mpip install --upgrade pip\u001b[0m\n",
      "Note: you may need to restart the kernel to use updated packages.\n"
     ]
    }
   ],
   "source": [
    "%pip install polars\n",
    "%pip install pandas"
   ]
  },
  {
   "cell_type": "code",
   "execution_count": 1,
   "metadata": {},
   "outputs": [],
   "source": [
    "import polars as pl\n",
    "import time"
   ]
  },
  {
   "cell_type": "code",
   "execution_count": 2,
   "metadata": {},
   "outputs": [
    {
     "name": "stdout",
     "output_type": "stream",
     "text": [
      "Reading CSV took 1.821187973022461 seconds\n"
     ]
    },
    {
     "data": {
      "text/html": [
       "<div><style>\n",
       ".dataframe > thead > tr,\n",
       ".dataframe > tbody > tr {\n",
       "  text-align: right;\n",
       "  white-space: pre-wrap;\n",
       "}\n",
       "</style>\n",
       "<small>shape: (27_800_079, 13)</small><table border=\"1\" class=\"dataframe\"><thead><tr><th>id</th><th>fdc_id</th><th>nutrient_id</th><th>amount</th><th>data_points</th><th>derivation_id</th><th>min</th><th>max</th><th>median</th><th>loq</th><th>footnote</th><th>min_year_acquired</th><th>percent_daily_value</th></tr><tr><td>i64</td><td>i64</td><td>i64</td><td>f64</td><td>str</td><td>i64</td><td>str</td><td>str</td><td>str</td><td>str</td><td>str</td><td>str</td><td>str</td></tr></thead><tbody><tr><td>33831549</td><td>2685582</td><td>2047</td><td>40.845</td><td>&quot;&quot;</td><td>49</td><td>&quot;&quot;</td><td>&quot;&quot;</td><td>&quot;&quot;</td><td>&quot;&quot;</td><td>&quot;&quot;</td><td>&quot;&quot;</td><td>&quot;&quot;</td></tr><tr><td>33831544</td><td>2685581</td><td>2047</td><td>37.8755</td><td>&quot;&quot;</td><td>49</td><td>&quot;&quot;</td><td>&quot;&quot;</td><td>&quot;&quot;</td><td>&quot;&quot;</td><td>&quot;&quot;</td><td>&quot;&quot;</td><td>&quot;&quot;</td></tr><tr><td>33831539</td><td>2685580</td><td>2047</td><td>104.2825</td><td>&quot;&quot;</td><td>49</td><td>&quot;&quot;</td><td>&quot;&quot;</td><td>&quot;&quot;</td><td>&quot;&quot;</td><td>&quot;&quot;</td><td>&quot;&quot;</td><td>&quot;&quot;</td></tr><tr><td>33831534</td><td>2685579</td><td>2047</td><td>34.1765</td><td>&quot;&quot;</td><td>49</td><td>&quot;&quot;</td><td>&quot;&quot;</td><td>&quot;&quot;</td><td>&quot;&quot;</td><td>&quot;&quot;</td><td>&quot;&quot;</td><td>&quot;&quot;</td></tr><tr><td>33831529</td><td>2685578</td><td>2047</td><td>22.4763</td><td>&quot;&quot;</td><td>49</td><td>&quot;&quot;</td><td>&quot;&quot;</td><td>&quot;&quot;</td><td>&quot;&quot;</td><td>&quot;&quot;</td><td>&quot;&quot;</td><td>&quot;&quot;</td></tr><tr><td>&hellip;</td><td>&hellip;</td><td>&hellip;</td><td>&hellip;</td><td>&hellip;</td><td>&hellip;</td><td>&hellip;</td><td>&hellip;</td><td>&hellip;</td><td>&hellip;</td><td>&hellip;</td><td>&hellip;</td><td>&hellip;</td></tr><tr><td>33291454</td><td>2643662</td><td>2069</td><td>12.2</td><td>&quot;1&quot;</td><td>1</td><td>&quot;&quot;</td><td>&quot;&quot;</td><td>&quot;&quot;</td><td>&quot;&quot;</td><td>&quot;&quot;</td><td>&quot;&quot;</td><td>&quot;&quot;</td></tr><tr><td>33291455</td><td>2643663</td><td>2069</td><td>11.1</td><td>&quot;1&quot;</td><td>1</td><td>&quot;&quot;</td><td>&quot;&quot;</td><td>&quot;&quot;</td><td>&quot;&quot;</td><td>&quot;&quot;</td><td>&quot;&quot;</td><td>&quot;&quot;</td></tr><tr><td>33291456</td><td>2643664</td><td>2069</td><td>19.7</td><td>&quot;1&quot;</td><td>1</td><td>&quot;&quot;</td><td>&quot;&quot;</td><td>&quot;&quot;</td><td>&quot;&quot;</td><td>&quot;&quot;</td><td>&quot;&quot;</td><td>&quot;&quot;</td></tr><tr><td>33291457</td><td>2643665</td><td>2069</td><td>10.9</td><td>&quot;1&quot;</td><td>1</td><td>&quot;&quot;</td><td>&quot;&quot;</td><td>&quot;&quot;</td><td>&quot;&quot;</td><td>&quot;&quot;</td><td>&quot;&quot;</td><td>&quot;&quot;</td></tr><tr><td>33291458</td><td>2643666</td><td>2069</td><td>20.4</td><td>&quot;1&quot;</td><td>1</td><td>&quot;&quot;</td><td>&quot;&quot;</td><td>&quot;&quot;</td><td>&quot;&quot;</td><td>&quot;&quot;</td><td>&quot;&quot;</td><td>&quot;&quot;</td></tr></tbody></table></div>"
      ],
      "text/plain": [
       "shape: (27_800_079, 13)\n",
       "┌──────────┬─────────┬─────────────┬──────────┬───┬─────┬──────────┬───────────────┬───────────────┐\n",
       "│ id       ┆ fdc_id  ┆ nutrient_id ┆ amount   ┆ … ┆ loq ┆ footnote ┆ min_year_acqu ┆ percent_daily │\n",
       "│ ---      ┆ ---     ┆ ---         ┆ ---      ┆   ┆ --- ┆ ---      ┆ ired          ┆ _value        │\n",
       "│ i64      ┆ i64     ┆ i64         ┆ f64      ┆   ┆ str ┆ str      ┆ ---           ┆ ---           │\n",
       "│          ┆         ┆             ┆          ┆   ┆     ┆          ┆ str           ┆ str           │\n",
       "╞══════════╪═════════╪═════════════╪══════════╪═══╪═════╪══════════╪═══════════════╪═══════════════╡\n",
       "│ 33831549 ┆ 2685582 ┆ 2047        ┆ 40.845   ┆ … ┆     ┆          ┆               ┆               │\n",
       "│ 33831544 ┆ 2685581 ┆ 2047        ┆ 37.8755  ┆ … ┆     ┆          ┆               ┆               │\n",
       "│ 33831539 ┆ 2685580 ┆ 2047        ┆ 104.2825 ┆ … ┆     ┆          ┆               ┆               │\n",
       "│ 33831534 ┆ 2685579 ┆ 2047        ┆ 34.1765  ┆ … ┆     ┆          ┆               ┆               │\n",
       "│ 33831529 ┆ 2685578 ┆ 2047        ┆ 22.4763  ┆ … ┆     ┆          ┆               ┆               │\n",
       "│ …        ┆ …       ┆ …           ┆ …        ┆ … ┆ …   ┆ …        ┆ …             ┆ …             │\n",
       "│ 33291454 ┆ 2643662 ┆ 2069        ┆ 12.2     ┆ … ┆     ┆          ┆               ┆               │\n",
       "│ 33291455 ┆ 2643663 ┆ 2069        ┆ 11.1     ┆ … ┆     ┆          ┆               ┆               │\n",
       "│ 33291456 ┆ 2643664 ┆ 2069        ┆ 19.7     ┆ … ┆     ┆          ┆               ┆               │\n",
       "│ 33291457 ┆ 2643665 ┆ 2069        ┆ 10.9     ┆ … ┆     ┆          ┆               ┆               │\n",
       "│ 33291458 ┆ 2643666 ┆ 2069        ┆ 20.4     ┆ … ┆     ┆          ┆               ┆               │\n",
       "└──────────┴─────────┴─────────────┴──────────┴───┴─────┴──────────┴───────────────┴───────────────┘"
      ]
     },
     "execution_count": 2,
     "metadata": {},
     "output_type": "execute_result"
    }
   ],
   "source": [
    "\n",
    "\n",
    "\n",
    "start = time.time()\n",
    "df = pl.read_csv('../datasets/FoodData_Central_csv_2024-04-18/food_nutrient.csv')\n",
    "stop = time.time()\n",
    "print(f\"Reading CSV took {stop - start} seconds\")\n",
    "df\n"
   ]
  },
  {
   "cell_type": "code",
   "execution_count": 4,
   "metadata": {},
   "outputs": [],
   "source": [
    "import pandas as pd\n",
    "pandas_df = df.to_pandas()"
   ]
  },
  {
   "cell_type": "code",
   "execution_count": 6,
   "metadata": {},
   "outputs": [
    {
     "data": {
      "text/html": [
       "<div>\n",
       "<style scoped>\n",
       "    .dataframe tbody tr th:only-of-type {\n",
       "        vertical-align: middle;\n",
       "    }\n",
       "\n",
       "    .dataframe tbody tr th {\n",
       "        vertical-align: top;\n",
       "    }\n",
       "\n",
       "    .dataframe thead th {\n",
       "        text-align: right;\n",
       "    }\n",
       "</style>\n",
       "<table border=\"1\" class=\"dataframe\">\n",
       "  <thead>\n",
       "    <tr style=\"text-align: right;\">\n",
       "      <th></th>\n",
       "      <th>id</th>\n",
       "      <th>fdc_id</th>\n",
       "      <th>nutrient_id</th>\n",
       "      <th>amount</th>\n",
       "      <th>data_points</th>\n",
       "      <th>derivation_id</th>\n",
       "      <th>min</th>\n",
       "      <th>max</th>\n",
       "      <th>median</th>\n",
       "      <th>loq</th>\n",
       "      <th>footnote</th>\n",
       "      <th>min_year_acquired</th>\n",
       "      <th>percent_daily_value</th>\n",
       "    </tr>\n",
       "  </thead>\n",
       "  <tbody>\n",
       "    <tr>\n",
       "      <th>0</th>\n",
       "      <td>33831549</td>\n",
       "      <td>2685582</td>\n",
       "      <td>2047</td>\n",
       "      <td>40.8450</td>\n",
       "      <td></td>\n",
       "      <td>49.0</td>\n",
       "      <td></td>\n",
       "      <td></td>\n",
       "      <td></td>\n",
       "      <td></td>\n",
       "      <td></td>\n",
       "      <td></td>\n",
       "      <td></td>\n",
       "    </tr>\n",
       "    <tr>\n",
       "      <th>1</th>\n",
       "      <td>33831544</td>\n",
       "      <td>2685581</td>\n",
       "      <td>2047</td>\n",
       "      <td>37.8755</td>\n",
       "      <td></td>\n",
       "      <td>49.0</td>\n",
       "      <td></td>\n",
       "      <td></td>\n",
       "      <td></td>\n",
       "      <td></td>\n",
       "      <td></td>\n",
       "      <td></td>\n",
       "      <td></td>\n",
       "    </tr>\n",
       "    <tr>\n",
       "      <th>2</th>\n",
       "      <td>33831539</td>\n",
       "      <td>2685580</td>\n",
       "      <td>2047</td>\n",
       "      <td>104.2825</td>\n",
       "      <td></td>\n",
       "      <td>49.0</td>\n",
       "      <td></td>\n",
       "      <td></td>\n",
       "      <td></td>\n",
       "      <td></td>\n",
       "      <td></td>\n",
       "      <td></td>\n",
       "      <td></td>\n",
       "    </tr>\n",
       "    <tr>\n",
       "      <th>3</th>\n",
       "      <td>33831534</td>\n",
       "      <td>2685579</td>\n",
       "      <td>2047</td>\n",
       "      <td>34.1765</td>\n",
       "      <td></td>\n",
       "      <td>49.0</td>\n",
       "      <td></td>\n",
       "      <td></td>\n",
       "      <td></td>\n",
       "      <td></td>\n",
       "      <td></td>\n",
       "      <td></td>\n",
       "      <td></td>\n",
       "    </tr>\n",
       "    <tr>\n",
       "      <th>4</th>\n",
       "      <td>33831529</td>\n",
       "      <td>2685578</td>\n",
       "      <td>2047</td>\n",
       "      <td>22.4763</td>\n",
       "      <td></td>\n",
       "      <td>49.0</td>\n",
       "      <td></td>\n",
       "      <td></td>\n",
       "      <td></td>\n",
       "      <td></td>\n",
       "      <td></td>\n",
       "      <td></td>\n",
       "      <td></td>\n",
       "    </tr>\n",
       "    <tr>\n",
       "      <th>...</th>\n",
       "      <td>...</td>\n",
       "      <td>...</td>\n",
       "      <td>...</td>\n",
       "      <td>...</td>\n",
       "      <td>...</td>\n",
       "      <td>...</td>\n",
       "      <td>...</td>\n",
       "      <td>...</td>\n",
       "      <td>...</td>\n",
       "      <td>...</td>\n",
       "      <td>...</td>\n",
       "      <td>...</td>\n",
       "      <td>...</td>\n",
       "    </tr>\n",
       "    <tr>\n",
       "      <th>275</th>\n",
       "      <td>13338531</td>\n",
       "      <td>746780</td>\n",
       "      <td>2047</td>\n",
       "      <td>317.0000</td>\n",
       "      <td></td>\n",
       "      <td>1.0</td>\n",
       "      <td></td>\n",
       "      <td></td>\n",
       "      <td></td>\n",
       "      <td></td>\n",
       "      <td></td>\n",
       "      <td></td>\n",
       "      <td></td>\n",
       "    </tr>\n",
       "    <tr>\n",
       "      <th>276</th>\n",
       "      <td>13338532</td>\n",
       "      <td>748236</td>\n",
       "      <td>2047</td>\n",
       "      <td>328.0000</td>\n",
       "      <td></td>\n",
       "      <td>1.0</td>\n",
       "      <td></td>\n",
       "      <td></td>\n",
       "      <td></td>\n",
       "      <td></td>\n",
       "      <td></td>\n",
       "      <td></td>\n",
       "      <td></td>\n",
       "    </tr>\n",
       "    <tr>\n",
       "      <th>277</th>\n",
       "      <td>13338533</td>\n",
       "      <td>329716</td>\n",
       "      <td>2047</td>\n",
       "      <td>641.0000</td>\n",
       "      <td></td>\n",
       "      <td>1.0</td>\n",
       "      <td></td>\n",
       "      <td></td>\n",
       "      <td></td>\n",
       "      <td></td>\n",
       "      <td></td>\n",
       "      <td></td>\n",
       "      <td></td>\n",
       "    </tr>\n",
       "    <tr>\n",
       "      <th>278</th>\n",
       "      <td>13338534</td>\n",
       "      <td>329596</td>\n",
       "      <td>2047</td>\n",
       "      <td>291.0000</td>\n",
       "      <td></td>\n",
       "      <td>1.0</td>\n",
       "      <td></td>\n",
       "      <td></td>\n",
       "      <td></td>\n",
       "      <td></td>\n",
       "      <td></td>\n",
       "      <td></td>\n",
       "      <td></td>\n",
       "    </tr>\n",
       "    <tr>\n",
       "      <th>279</th>\n",
       "      <td>13338535</td>\n",
       "      <td>328841</td>\n",
       "      <td>2047</td>\n",
       "      <td>82.0000</td>\n",
       "      <td></td>\n",
       "      <td>1.0</td>\n",
       "      <td></td>\n",
       "      <td></td>\n",
       "      <td></td>\n",
       "      <td></td>\n",
       "      <td></td>\n",
       "      <td></td>\n",
       "      <td></td>\n",
       "    </tr>\n",
       "  </tbody>\n",
       "</table>\n",
       "<p>280 rows × 13 columns</p>\n",
       "</div>"
      ],
      "text/plain": [
       "           id   fdc_id  nutrient_id    amount data_points  derivation_id min  \\\n",
       "0    33831549  2685582         2047   40.8450                       49.0       \n",
       "1    33831544  2685581         2047   37.8755                       49.0       \n",
       "2    33831539  2685580         2047  104.2825                       49.0       \n",
       "3    33831534  2685579         2047   34.1765                       49.0       \n",
       "4    33831529  2685578         2047   22.4763                       49.0       \n",
       "..        ...      ...          ...       ...         ...            ...  ..   \n",
       "275  13338531   746780         2047  317.0000                        1.0       \n",
       "276  13338532   748236         2047  328.0000                        1.0       \n",
       "277  13338533   329716         2047  641.0000                        1.0       \n",
       "278  13338534   329596         2047  291.0000                        1.0       \n",
       "279  13338535   328841         2047   82.0000                        1.0       \n",
       "\n",
       "    max median loq footnote min_year_acquired percent_daily_value  \n",
       "0                                                                  \n",
       "1                                                                  \n",
       "2                                                                  \n",
       "3                                                                  \n",
       "4                                                                  \n",
       "..   ..    ...  ..      ...               ...                 ...  \n",
       "275                                                                \n",
       "276                                                                \n",
       "277                                                                \n",
       "278                                                                \n",
       "279                                                                \n",
       "\n",
       "[280 rows x 13 columns]"
      ]
     },
     "execution_count": 6,
     "metadata": {},
     "output_type": "execute_result"
    }
   ],
   "source": [
    "pandas_df[pandas_df[\"nutrient_id\"] == 2047]"
   ]
  },
  {
   "cell_type": "code",
   "execution_count": 5,
   "metadata": {},
   "outputs": [
    {
     "name": "stdout",
     "output_type": "stream",
     "text": [
      "Reading CSV took 0.040461063385009766 seconds\n"
     ]
    },
    {
     "data": {
      "text/html": [
       "<div><style>\n",
       ".dataframe > thead > tr,\n",
       ".dataframe > tbody > tr {\n",
       "  text-align: right;\n",
       "  white-space: pre-wrap;\n",
       "}\n",
       "</style>\n",
       "<small>shape: (27_800_079, 13)</small><table border=\"1\" class=\"dataframe\"><thead><tr><th>id</th><th>fdc_id</th><th>nutrient_id</th><th>amount</th><th>data_points</th><th>derivation_id</th><th>min</th><th>max</th><th>median</th><th>loq</th><th>footnote</th><th>min_year_acquired</th><th>percent_daily_value</th></tr><tr><td>i64</td><td>i64</td><td>i64</td><td>f64</td><td>str</td><td>i64</td><td>str</td><td>str</td><td>str</td><td>str</td><td>str</td><td>str</td><td>str</td></tr></thead><tbody><tr><td>33831549</td><td>2685582</td><td>2047</td><td>40.845</td><td>&quot;&quot;</td><td>49</td><td>&quot;&quot;</td><td>&quot;&quot;</td><td>&quot;&quot;</td><td>&quot;&quot;</td><td>&quot;&quot;</td><td>&quot;&quot;</td><td>&quot;&quot;</td></tr><tr><td>33831544</td><td>2685581</td><td>2047</td><td>37.8755</td><td>&quot;&quot;</td><td>49</td><td>&quot;&quot;</td><td>&quot;&quot;</td><td>&quot;&quot;</td><td>&quot;&quot;</td><td>&quot;&quot;</td><td>&quot;&quot;</td><td>&quot;&quot;</td></tr><tr><td>33831539</td><td>2685580</td><td>2047</td><td>104.2825</td><td>&quot;&quot;</td><td>49</td><td>&quot;&quot;</td><td>&quot;&quot;</td><td>&quot;&quot;</td><td>&quot;&quot;</td><td>&quot;&quot;</td><td>&quot;&quot;</td><td>&quot;&quot;</td></tr><tr><td>33831534</td><td>2685579</td><td>2047</td><td>34.1765</td><td>&quot;&quot;</td><td>49</td><td>&quot;&quot;</td><td>&quot;&quot;</td><td>&quot;&quot;</td><td>&quot;&quot;</td><td>&quot;&quot;</td><td>&quot;&quot;</td><td>&quot;&quot;</td></tr><tr><td>33831529</td><td>2685578</td><td>2047</td><td>22.4763</td><td>&quot;&quot;</td><td>49</td><td>&quot;&quot;</td><td>&quot;&quot;</td><td>&quot;&quot;</td><td>&quot;&quot;</td><td>&quot;&quot;</td><td>&quot;&quot;</td><td>&quot;&quot;</td></tr><tr><td>&hellip;</td><td>&hellip;</td><td>&hellip;</td><td>&hellip;</td><td>&hellip;</td><td>&hellip;</td><td>&hellip;</td><td>&hellip;</td><td>&hellip;</td><td>&hellip;</td><td>&hellip;</td><td>&hellip;</td><td>&hellip;</td></tr><tr><td>33291454</td><td>2643662</td><td>2069</td><td>12.2</td><td>&quot;1&quot;</td><td>1</td><td>&quot;&quot;</td><td>&quot;&quot;</td><td>&quot;&quot;</td><td>&quot;&quot;</td><td>&quot;&quot;</td><td>&quot;&quot;</td><td>&quot;&quot;</td></tr><tr><td>33291455</td><td>2643663</td><td>2069</td><td>11.1</td><td>&quot;1&quot;</td><td>1</td><td>&quot;&quot;</td><td>&quot;&quot;</td><td>&quot;&quot;</td><td>&quot;&quot;</td><td>&quot;&quot;</td><td>&quot;&quot;</td><td>&quot;&quot;</td></tr><tr><td>33291456</td><td>2643664</td><td>2069</td><td>19.7</td><td>&quot;1&quot;</td><td>1</td><td>&quot;&quot;</td><td>&quot;&quot;</td><td>&quot;&quot;</td><td>&quot;&quot;</td><td>&quot;&quot;</td><td>&quot;&quot;</td><td>&quot;&quot;</td></tr><tr><td>33291457</td><td>2643665</td><td>2069</td><td>10.9</td><td>&quot;1&quot;</td><td>1</td><td>&quot;&quot;</td><td>&quot;&quot;</td><td>&quot;&quot;</td><td>&quot;&quot;</td><td>&quot;&quot;</td><td>&quot;&quot;</td><td>&quot;&quot;</td></tr><tr><td>33291458</td><td>2643666</td><td>2069</td><td>20.4</td><td>&quot;1&quot;</td><td>1</td><td>&quot;&quot;</td><td>&quot;&quot;</td><td>&quot;&quot;</td><td>&quot;&quot;</td><td>&quot;&quot;</td><td>&quot;&quot;</td><td>&quot;&quot;</td></tr></tbody></table></div>"
      ],
      "text/plain": [
       "shape: (27_800_079, 13)\n",
       "┌──────────┬─────────┬─────────────┬──────────┬───┬─────┬──────────┬───────────────┬───────────────┐\n",
       "│ id       ┆ fdc_id  ┆ nutrient_id ┆ amount   ┆ … ┆ loq ┆ footnote ┆ min_year_acqu ┆ percent_daily │\n",
       "│ ---      ┆ ---     ┆ ---         ┆ ---      ┆   ┆ --- ┆ ---      ┆ ired          ┆ _value        │\n",
       "│ i64      ┆ i64     ┆ i64         ┆ f64      ┆   ┆ str ┆ str      ┆ ---           ┆ ---           │\n",
       "│          ┆         ┆             ┆          ┆   ┆     ┆          ┆ str           ┆ str           │\n",
       "╞══════════╪═════════╪═════════════╪══════════╪═══╪═════╪══════════╪═══════════════╪═══════════════╡\n",
       "│ 33831549 ┆ 2685582 ┆ 2047        ┆ 40.845   ┆ … ┆     ┆          ┆               ┆               │\n",
       "│ 33831544 ┆ 2685581 ┆ 2047        ┆ 37.8755  ┆ … ┆     ┆          ┆               ┆               │\n",
       "│ 33831539 ┆ 2685580 ┆ 2047        ┆ 104.2825 ┆ … ┆     ┆          ┆               ┆               │\n",
       "│ 33831534 ┆ 2685579 ┆ 2047        ┆ 34.1765  ┆ … ┆     ┆          ┆               ┆               │\n",
       "│ 33831529 ┆ 2685578 ┆ 2047        ┆ 22.4763  ┆ … ┆     ┆          ┆               ┆               │\n",
       "│ …        ┆ …       ┆ …           ┆ …        ┆ … ┆ …   ┆ …        ┆ …             ┆ …             │\n",
       "│ 33291454 ┆ 2643662 ┆ 2069        ┆ 12.2     ┆ … ┆     ┆          ┆               ┆               │\n",
       "│ 33291455 ┆ 2643663 ┆ 2069        ┆ 11.1     ┆ … ┆     ┆          ┆               ┆               │\n",
       "│ 33291456 ┆ 2643664 ┆ 2069        ┆ 19.7     ┆ … ┆     ┆          ┆               ┆               │\n",
       "│ 33291457 ┆ 2643665 ┆ 2069        ┆ 10.9     ┆ … ┆     ┆          ┆               ┆               │\n",
       "│ 33291458 ┆ 2643666 ┆ 2069        ┆ 20.4     ┆ … ┆     ┆          ┆               ┆               │\n",
       "└──────────┴─────────┴─────────────┴──────────┴───┴─────┴──────────┴───────────────┴───────────────┘"
      ]
     },
     "execution_count": 5,
     "metadata": {},
     "output_type": "execute_result"
    }
   ],
   "source": [
    "start = time.time()\n",
    "df.filter(pl.col(\"nutrient_id\") == 2047)\n",
    "stop = time.time()\n",
    "print(f\"Reading CSV took {stop - start} seconds\")\n",
    "df"
   ]
  },
  {
   "cell_type": "code",
   "execution_count": 26,
   "metadata": {},
   "outputs": [
    {
     "name": "stdout",
     "output_type": "stream",
     "text": [
      "Reading CSV took 0.012048959732055664 seconds\n"
     ]
    },
    {
     "data": {
      "text/html": [
       "<h4>NAIVE QUERY PLAN</h4><p>run <b>LazyFrame.show_graph()</b> to see the optimized version</p><?xml version=\"1.0\" encoding=\"UTF-8\" standalone=\"no\"?>\n",
       "<!DOCTYPE svg PUBLIC \"-//W3C//DTD SVG 1.1//EN\"\n",
       " \"http://www.w3.org/Graphics/SVG/1.1/DTD/svg11.dtd\">\n",
       "<!-- Generated by graphviz version 12.1.1 (20240910.0053)\n",
       " -->\n",
       "<!-- Title: polars_query Pages: 1 -->\n",
       "<svg width=\"449pt\" height=\"121pt\"\n",
       " viewBox=\"0.00 0.00 448.50 121.00\" xmlns=\"http://www.w3.org/2000/svg\" xmlns:xlink=\"http://www.w3.org/1999/xlink\">\n",
       "<g id=\"graph0\" class=\"graph\" transform=\"scale(1 1) rotate(0) translate(4 117)\">\n",
       "<title>polars_query</title>\n",
       "<polygon fill=\"white\" stroke=\"none\" points=\"-4,4 -4,-117 444.5,-117 444.5,4 -4,4\"/>\n",
       "<!-- p1 -->\n",
       "<g id=\"node1\" class=\"node\">\n",
       "<title>p1</title>\n",
       "<polygon fill=\"none\" stroke=\"black\" points=\"351.25,-113 89.25,-113 89.25,-77 351.25,-77 351.25,-113\"/>\n",
       "<text text-anchor=\"middle\" x=\"220.25\" y=\"-89.95\" font-family=\"Times,serif\" font-size=\"14.00\">FILTER BY [(col(&quot;nutrient_id&quot;)) == (2047)]</text>\n",
       "</g>\n",
       "<!-- p2 -->\n",
       "<g id=\"node2\" class=\"node\">\n",
       "<title>p2</title>\n",
       "<polygon fill=\"none\" stroke=\"black\" points=\"440.5,-41 0,-41 0,0 440.5,0 440.5,-41\"/>\n",
       "<text text-anchor=\"middle\" x=\"220.25\" y=\"-23.7\" font-family=\"Times,serif\" font-size=\"14.00\">Csv SCAN [../datasets/FoodData_Central_csv_2024&#45;04&#45;18/food_nutrient.csv]</text>\n",
       "<text text-anchor=\"middle\" x=\"220.25\" y=\"-7.2\" font-family=\"Times,serif\" font-size=\"14.00\">π */13;</text>\n",
       "</g>\n",
       "<!-- p1&#45;&#45;p2 -->\n",
       "<g id=\"edge1\" class=\"edge\">\n",
       "<title>p1&#45;&#45;p2</title>\n",
       "<path fill=\"none\" stroke=\"black\" d=\"M220.25,-76.82C220.25,-66.18 220.25,-52.49 220.25,-41.38\"/>\n",
       "</g>\n",
       "</g>\n",
       "</svg>\n"
      ],
      "text/plain": [
       "<LazyFrame at 0x1222C5E50>"
      ]
     },
     "execution_count": 26,
     "metadata": {},
     "output_type": "execute_result"
    }
   ],
   "source": [
    "start = time.time()\n",
    "q = (pl.scan_csv(\n",
    "    '../datasets/FoodData_Central_csv_2024-04-18/food_nutrient.csv')\n",
    "     .filter(pl.col(\"nutrient_id\") == 2047)\n",
    "     )\n",
    "stop = time.time()\n",
    "print(f\"Reading CSV took {stop - start} seconds\")\n",
    "q"
   ]
  },
  {
   "cell_type": "code",
   "execution_count": 32,
   "metadata": {},
   "outputs": [
    {
     "data": {
      "image/svg+xml": [
       "<svg xmlns=\"http://www.w3.org/2000/svg\" xmlns:xlink=\"http://www.w3.org/1999/xlink\" width=\"449pt\" height=\"121pt\" viewBox=\"0.00 0.00 448.50 121.00\">\n",
       "<g id=\"graph0\" class=\"graph\" transform=\"scale(1 1) rotate(0) translate(4 117)\">\n",
       "<title>polars_query</title>\n",
       "<polygon fill=\"white\" stroke=\"none\" points=\"-4,4 -4,-117 444.5,-117 444.5,4 -4,4\"/>\n",
       "<!-- p1 -->\n",
       "<g id=\"node1\" class=\"node\">\n",
       "<title>p1</title>\n",
       "<polygon fill=\"none\" stroke=\"black\" points=\"351.25,-113 89.25,-113 89.25,-77 351.25,-77 351.25,-113\"/>\n",
       "<text text-anchor=\"middle\" x=\"220.25\" y=\"-89.95\" font-family=\"Times,serif\" font-size=\"14.00\">FILTER BY [(col(&quot;nutrient_id&quot;)) == (2047)]</text>\n",
       "</g>\n",
       "<!-- p2 -->\n",
       "<g id=\"node2\" class=\"node\">\n",
       "<title>p2</title>\n",
       "<polygon fill=\"none\" stroke=\"black\" points=\"440.5,-41 0,-41 0,0 440.5,0 440.5,-41\"/>\n",
       "<text text-anchor=\"middle\" x=\"220.25\" y=\"-23.7\" font-family=\"Times,serif\" font-size=\"14.00\">Csv SCAN [../datasets/FoodData_Central_csv_2024-04-18/food_nutrient.csv]</text>\n",
       "<text text-anchor=\"middle\" x=\"220.25\" y=\"-7.2\" font-family=\"Times,serif\" font-size=\"14.00\">π */13;</text>\n",
       "</g>\n",
       "<!-- p1&#45;&#45;p2 -->\n",
       "<g id=\"edge1\" class=\"edge\">\n",
       "<title>p1--p2</title>\n",
       "<path fill=\"none\" stroke=\"black\" d=\"M220.25,-76.82C220.25,-66.18 220.25,-52.49 220.25,-41.38\"/>\n",
       "</g>\n",
       "</g>\n",
       "</svg>"
      ],
      "text/plain": [
       "<IPython.core.display.SVG object>"
      ]
     },
     "metadata": {},
     "output_type": "display_data"
    }
   ],
   "source": [
    "q.show_graph(optimized=False)  # optimized=False)"
   ]
  },
  {
   "cell_type": "code",
   "execution_count": 35,
   "metadata": {},
   "outputs": [
    {
     "name": "stdout",
     "output_type": "stream",
     "text": [
      "FILTER [(col(\"nutrient_id\")) == (2047)] FROM\n",
      "  Csv SCAN [../datasets/FoodData_Central_csv_2024-04-18/food_nutrient.csv]\n",
      "  PROJECT */13 COLUMNS\n"
     ]
    }
   ],
   "source": [
    "print(q.explain(optimized=False))"
   ]
  },
  {
   "cell_type": "code",
   "execution_count": 23,
   "metadata": {},
   "outputs": [
    {
     "name": "stdout",
     "output_type": "stream",
     "text": [
      "Reading CSV took 0.8845272064208984 seconds\n"
     ]
    },
    {
     "data": {
      "text/html": [
       "<div><style>\n",
       ".dataframe > thead > tr,\n",
       ".dataframe > tbody > tr {\n",
       "  text-align: right;\n",
       "  white-space: pre-wrap;\n",
       "}\n",
       "</style>\n",
       "<small>shape: (280, 13)</small><table border=\"1\" class=\"dataframe\"><thead><tr><th>id</th><th>fdc_id</th><th>nutrient_id</th><th>amount</th><th>data_points</th><th>derivation_id</th><th>min</th><th>max</th><th>median</th><th>loq</th><th>footnote</th><th>min_year_acquired</th><th>percent_daily_value</th></tr><tr><td>i64</td><td>i64</td><td>i64</td><td>f64</td><td>str</td><td>i64</td><td>str</td><td>str</td><td>str</td><td>str</td><td>str</td><td>str</td><td>str</td></tr></thead><tbody><tr><td>33831549</td><td>2685582</td><td>2047</td><td>40.845</td><td>&quot;&quot;</td><td>49</td><td>&quot;&quot;</td><td>&quot;&quot;</td><td>&quot;&quot;</td><td>&quot;&quot;</td><td>&quot;&quot;</td><td>&quot;&quot;</td><td>&quot;&quot;</td></tr><tr><td>33831544</td><td>2685581</td><td>2047</td><td>37.8755</td><td>&quot;&quot;</td><td>49</td><td>&quot;&quot;</td><td>&quot;&quot;</td><td>&quot;&quot;</td><td>&quot;&quot;</td><td>&quot;&quot;</td><td>&quot;&quot;</td><td>&quot;&quot;</td></tr><tr><td>33831539</td><td>2685580</td><td>2047</td><td>104.2825</td><td>&quot;&quot;</td><td>49</td><td>&quot;&quot;</td><td>&quot;&quot;</td><td>&quot;&quot;</td><td>&quot;&quot;</td><td>&quot;&quot;</td><td>&quot;&quot;</td><td>&quot;&quot;</td></tr><tr><td>33831534</td><td>2685579</td><td>2047</td><td>34.1765</td><td>&quot;&quot;</td><td>49</td><td>&quot;&quot;</td><td>&quot;&quot;</td><td>&quot;&quot;</td><td>&quot;&quot;</td><td>&quot;&quot;</td><td>&quot;&quot;</td><td>&quot;&quot;</td></tr><tr><td>33831529</td><td>2685578</td><td>2047</td><td>22.4763</td><td>&quot;&quot;</td><td>49</td><td>&quot;&quot;</td><td>&quot;&quot;</td><td>&quot;&quot;</td><td>&quot;&quot;</td><td>&quot;&quot;</td><td>&quot;&quot;</td><td>&quot;&quot;</td></tr><tr><td>&hellip;</td><td>&hellip;</td><td>&hellip;</td><td>&hellip;</td><td>&hellip;</td><td>&hellip;</td><td>&hellip;</td><td>&hellip;</td><td>&hellip;</td><td>&hellip;</td><td>&hellip;</td><td>&hellip;</td><td>&hellip;</td></tr><tr><td>13338531</td><td>746780</td><td>2047</td><td>317.0</td><td>&quot;&quot;</td><td>1</td><td>&quot;&quot;</td><td>&quot;&quot;</td><td>&quot;&quot;</td><td>&quot;&quot;</td><td>&quot;&quot;</td><td>&quot;&quot;</td><td>&quot;&quot;</td></tr><tr><td>13338532</td><td>748236</td><td>2047</td><td>328.0</td><td>&quot;&quot;</td><td>1</td><td>&quot;&quot;</td><td>&quot;&quot;</td><td>&quot;&quot;</td><td>&quot;&quot;</td><td>&quot;&quot;</td><td>&quot;&quot;</td><td>&quot;&quot;</td></tr><tr><td>13338533</td><td>329716</td><td>2047</td><td>641.0</td><td>&quot;&quot;</td><td>1</td><td>&quot;&quot;</td><td>&quot;&quot;</td><td>&quot;&quot;</td><td>&quot;&quot;</td><td>&quot;&quot;</td><td>&quot;&quot;</td><td>&quot;&quot;</td></tr><tr><td>13338534</td><td>329596</td><td>2047</td><td>291.0</td><td>&quot;&quot;</td><td>1</td><td>&quot;&quot;</td><td>&quot;&quot;</td><td>&quot;&quot;</td><td>&quot;&quot;</td><td>&quot;&quot;</td><td>&quot;&quot;</td><td>&quot;&quot;</td></tr><tr><td>13338535</td><td>328841</td><td>2047</td><td>82.0</td><td>&quot;&quot;</td><td>1</td><td>&quot;&quot;</td><td>&quot;&quot;</td><td>&quot;&quot;</td><td>&quot;&quot;</td><td>&quot;&quot;</td><td>&quot;&quot;</td><td>&quot;&quot;</td></tr></tbody></table></div>"
      ],
      "text/plain": [
       "shape: (280, 13)\n",
       "┌──────────┬─────────┬─────────────┬──────────┬───┬─────┬──────────┬───────────────┬───────────────┐\n",
       "│ id       ┆ fdc_id  ┆ nutrient_id ┆ amount   ┆ … ┆ loq ┆ footnote ┆ min_year_acqu ┆ percent_daily │\n",
       "│ ---      ┆ ---     ┆ ---         ┆ ---      ┆   ┆ --- ┆ ---      ┆ ired          ┆ _value        │\n",
       "│ i64      ┆ i64     ┆ i64         ┆ f64      ┆   ┆ str ┆ str      ┆ ---           ┆ ---           │\n",
       "│          ┆         ┆             ┆          ┆   ┆     ┆          ┆ str           ┆ str           │\n",
       "╞══════════╪═════════╪═════════════╪══════════╪═══╪═════╪══════════╪═══════════════╪═══════════════╡\n",
       "│ 33831549 ┆ 2685582 ┆ 2047        ┆ 40.845   ┆ … ┆     ┆          ┆               ┆               │\n",
       "│ 33831544 ┆ 2685581 ┆ 2047        ┆ 37.8755  ┆ … ┆     ┆          ┆               ┆               │\n",
       "│ 33831539 ┆ 2685580 ┆ 2047        ┆ 104.2825 ┆ … ┆     ┆          ┆               ┆               │\n",
       "│ 33831534 ┆ 2685579 ┆ 2047        ┆ 34.1765  ┆ … ┆     ┆          ┆               ┆               │\n",
       "│ 33831529 ┆ 2685578 ┆ 2047        ┆ 22.4763  ┆ … ┆     ┆          ┆               ┆               │\n",
       "│ …        ┆ …       ┆ …           ┆ …        ┆ … ┆ …   ┆ …        ┆ …             ┆ …             │\n",
       "│ 13338531 ┆ 746780  ┆ 2047        ┆ 317.0    ┆ … ┆     ┆          ┆               ┆               │\n",
       "│ 13338532 ┆ 748236  ┆ 2047        ┆ 328.0    ┆ … ┆     ┆          ┆               ┆               │\n",
       "│ 13338533 ┆ 329716  ┆ 2047        ┆ 641.0    ┆ … ┆     ┆          ┆               ┆               │\n",
       "│ 13338534 ┆ 329596  ┆ 2047        ┆ 291.0    ┆ … ┆     ┆          ┆               ┆               │\n",
       "│ 13338535 ┆ 328841  ┆ 2047        ┆ 82.0     ┆ … ┆     ┆          ┆               ┆               │\n",
       "└──────────┴─────────┴─────────────┴──────────┴───┴─────┴──────────┴───────────────┴───────────────┘"
      ]
     },
     "execution_count": 23,
     "metadata": {},
     "output_type": "execute_result"
    }
   ],
   "source": [
    "start = time.time()\n",
    "df = q.collect()\n",
    "stop = time.time()\n",
    "print(f\"Reading CSV took {stop - start} seconds\")\n",
    "df"
   ]
  },
  {
   "cell_type": "code",
   "execution_count": 6,
   "metadata": {},
   "outputs": [
    {
     "name": "stderr",
     "output_type": "stream",
     "text": [
      "/var/folders/t5/m580657s5rxblthmnv5y6vfm0000gn/T/ipykernel_33195/2842574627.py:5: DtypeWarning: Columns (10) have mixed types. Specify dtype option on import or set low_memory=False.\n",
      "  df_pandas = pd.read_csv('../datasets/FoodData_Central_csv_2024-04-18/food_nutrient.csv')\n"
     ]
    },
    {
     "name": "stdout",
     "output_type": "stream",
     "text": [
      "Reading CSV took 13.06479001045227 seconds\n"
     ]
    },
    {
     "data": {
      "text/html": [
       "<div>\n",
       "<style scoped>\n",
       "    .dataframe tbody tr th:only-of-type {\n",
       "        vertical-align: middle;\n",
       "    }\n",
       "\n",
       "    .dataframe tbody tr th {\n",
       "        vertical-align: top;\n",
       "    }\n",
       "\n",
       "    .dataframe thead th {\n",
       "        text-align: right;\n",
       "    }\n",
       "</style>\n",
       "<table border=\"1\" class=\"dataframe\">\n",
       "  <thead>\n",
       "    <tr style=\"text-align: right;\">\n",
       "      <th></th>\n",
       "      <th>id</th>\n",
       "      <th>fdc_id</th>\n",
       "      <th>nutrient_id</th>\n",
       "      <th>amount</th>\n",
       "      <th>data_points</th>\n",
       "      <th>derivation_id</th>\n",
       "      <th>min</th>\n",
       "      <th>max</th>\n",
       "      <th>median</th>\n",
       "      <th>loq</th>\n",
       "      <th>footnote</th>\n",
       "      <th>min_year_acquired</th>\n",
       "      <th>percent_daily_value</th>\n",
       "    </tr>\n",
       "  </thead>\n",
       "  <tbody>\n",
       "    <tr>\n",
       "      <th>0</th>\n",
       "      <td>33831549</td>\n",
       "      <td>2685582</td>\n",
       "      <td>2047</td>\n",
       "      <td>40.8450</td>\n",
       "      <td>NaN</td>\n",
       "      <td>49.0</td>\n",
       "      <td>NaN</td>\n",
       "      <td>NaN</td>\n",
       "      <td>NaN</td>\n",
       "      <td>NaN</td>\n",
       "      <td>NaN</td>\n",
       "      <td>NaN</td>\n",
       "      <td>NaN</td>\n",
       "    </tr>\n",
       "    <tr>\n",
       "      <th>1</th>\n",
       "      <td>33831544</td>\n",
       "      <td>2685581</td>\n",
       "      <td>2047</td>\n",
       "      <td>37.8755</td>\n",
       "      <td>NaN</td>\n",
       "      <td>49.0</td>\n",
       "      <td>NaN</td>\n",
       "      <td>NaN</td>\n",
       "      <td>NaN</td>\n",
       "      <td>NaN</td>\n",
       "      <td>NaN</td>\n",
       "      <td>NaN</td>\n",
       "      <td>NaN</td>\n",
       "    </tr>\n",
       "    <tr>\n",
       "      <th>2</th>\n",
       "      <td>33831539</td>\n",
       "      <td>2685580</td>\n",
       "      <td>2047</td>\n",
       "      <td>104.2825</td>\n",
       "      <td>NaN</td>\n",
       "      <td>49.0</td>\n",
       "      <td>NaN</td>\n",
       "      <td>NaN</td>\n",
       "      <td>NaN</td>\n",
       "      <td>NaN</td>\n",
       "      <td>NaN</td>\n",
       "      <td>NaN</td>\n",
       "      <td>NaN</td>\n",
       "    </tr>\n",
       "    <tr>\n",
       "      <th>3</th>\n",
       "      <td>33831534</td>\n",
       "      <td>2685579</td>\n",
       "      <td>2047</td>\n",
       "      <td>34.1765</td>\n",
       "      <td>NaN</td>\n",
       "      <td>49.0</td>\n",
       "      <td>NaN</td>\n",
       "      <td>NaN</td>\n",
       "      <td>NaN</td>\n",
       "      <td>NaN</td>\n",
       "      <td>NaN</td>\n",
       "      <td>NaN</td>\n",
       "      <td>NaN</td>\n",
       "    </tr>\n",
       "    <tr>\n",
       "      <th>4</th>\n",
       "      <td>33831529</td>\n",
       "      <td>2685578</td>\n",
       "      <td>2047</td>\n",
       "      <td>22.4763</td>\n",
       "      <td>NaN</td>\n",
       "      <td>49.0</td>\n",
       "      <td>NaN</td>\n",
       "      <td>NaN</td>\n",
       "      <td>NaN</td>\n",
       "      <td>NaN</td>\n",
       "      <td>NaN</td>\n",
       "      <td>NaN</td>\n",
       "      <td>NaN</td>\n",
       "    </tr>\n",
       "    <tr>\n",
       "      <th>...</th>\n",
       "      <td>...</td>\n",
       "      <td>...</td>\n",
       "      <td>...</td>\n",
       "      <td>...</td>\n",
       "      <td>...</td>\n",
       "      <td>...</td>\n",
       "      <td>...</td>\n",
       "      <td>...</td>\n",
       "      <td>...</td>\n",
       "      <td>...</td>\n",
       "      <td>...</td>\n",
       "      <td>...</td>\n",
       "      <td>...</td>\n",
       "    </tr>\n",
       "    <tr>\n",
       "      <th>27800074</th>\n",
       "      <td>33291454</td>\n",
       "      <td>2643662</td>\n",
       "      <td>2069</td>\n",
       "      <td>12.2000</td>\n",
       "      <td>1.0</td>\n",
       "      <td>1.0</td>\n",
       "      <td>NaN</td>\n",
       "      <td>NaN</td>\n",
       "      <td>NaN</td>\n",
       "      <td>NaN</td>\n",
       "      <td>NaN</td>\n",
       "      <td>NaN</td>\n",
       "      <td>NaN</td>\n",
       "    </tr>\n",
       "    <tr>\n",
       "      <th>27800075</th>\n",
       "      <td>33291455</td>\n",
       "      <td>2643663</td>\n",
       "      <td>2069</td>\n",
       "      <td>11.1000</td>\n",
       "      <td>1.0</td>\n",
       "      <td>1.0</td>\n",
       "      <td>NaN</td>\n",
       "      <td>NaN</td>\n",
       "      <td>NaN</td>\n",
       "      <td>NaN</td>\n",
       "      <td>NaN</td>\n",
       "      <td>NaN</td>\n",
       "      <td>NaN</td>\n",
       "    </tr>\n",
       "    <tr>\n",
       "      <th>27800076</th>\n",
       "      <td>33291456</td>\n",
       "      <td>2643664</td>\n",
       "      <td>2069</td>\n",
       "      <td>19.7000</td>\n",
       "      <td>1.0</td>\n",
       "      <td>1.0</td>\n",
       "      <td>NaN</td>\n",
       "      <td>NaN</td>\n",
       "      <td>NaN</td>\n",
       "      <td>NaN</td>\n",
       "      <td>NaN</td>\n",
       "      <td>NaN</td>\n",
       "      <td>NaN</td>\n",
       "    </tr>\n",
       "    <tr>\n",
       "      <th>27800077</th>\n",
       "      <td>33291457</td>\n",
       "      <td>2643665</td>\n",
       "      <td>2069</td>\n",
       "      <td>10.9000</td>\n",
       "      <td>1.0</td>\n",
       "      <td>1.0</td>\n",
       "      <td>NaN</td>\n",
       "      <td>NaN</td>\n",
       "      <td>NaN</td>\n",
       "      <td>NaN</td>\n",
       "      <td>NaN</td>\n",
       "      <td>NaN</td>\n",
       "      <td>NaN</td>\n",
       "    </tr>\n",
       "    <tr>\n",
       "      <th>27800078</th>\n",
       "      <td>33291458</td>\n",
       "      <td>2643666</td>\n",
       "      <td>2069</td>\n",
       "      <td>20.4000</td>\n",
       "      <td>1.0</td>\n",
       "      <td>1.0</td>\n",
       "      <td>NaN</td>\n",
       "      <td>NaN</td>\n",
       "      <td>NaN</td>\n",
       "      <td>NaN</td>\n",
       "      <td>NaN</td>\n",
       "      <td>NaN</td>\n",
       "      <td>NaN</td>\n",
       "    </tr>\n",
       "  </tbody>\n",
       "</table>\n",
       "<p>27800079 rows × 13 columns</p>\n",
       "</div>"
      ],
      "text/plain": [
       "                id   fdc_id  nutrient_id    amount  data_points  \\\n",
       "0         33831549  2685582         2047   40.8450          NaN   \n",
       "1         33831544  2685581         2047   37.8755          NaN   \n",
       "2         33831539  2685580         2047  104.2825          NaN   \n",
       "3         33831534  2685579         2047   34.1765          NaN   \n",
       "4         33831529  2685578         2047   22.4763          NaN   \n",
       "...            ...      ...          ...       ...          ...   \n",
       "27800074  33291454  2643662         2069   12.2000          1.0   \n",
       "27800075  33291455  2643663         2069   11.1000          1.0   \n",
       "27800076  33291456  2643664         2069   19.7000          1.0   \n",
       "27800077  33291457  2643665         2069   10.9000          1.0   \n",
       "27800078  33291458  2643666         2069   20.4000          1.0   \n",
       "\n",
       "          derivation_id  min  max  median  loq footnote  min_year_acquired  \\\n",
       "0                  49.0  NaN  NaN     NaN  NaN      NaN                NaN   \n",
       "1                  49.0  NaN  NaN     NaN  NaN      NaN                NaN   \n",
       "2                  49.0  NaN  NaN     NaN  NaN      NaN                NaN   \n",
       "3                  49.0  NaN  NaN     NaN  NaN      NaN                NaN   \n",
       "4                  49.0  NaN  NaN     NaN  NaN      NaN                NaN   \n",
       "...                 ...  ...  ...     ...  ...      ...                ...   \n",
       "27800074            1.0  NaN  NaN     NaN  NaN      NaN                NaN   \n",
       "27800075            1.0  NaN  NaN     NaN  NaN      NaN                NaN   \n",
       "27800076            1.0  NaN  NaN     NaN  NaN      NaN                NaN   \n",
       "27800077            1.0  NaN  NaN     NaN  NaN      NaN                NaN   \n",
       "27800078            1.0  NaN  NaN     NaN  NaN      NaN                NaN   \n",
       "\n",
       "          percent_daily_value  \n",
       "0                         NaN  \n",
       "1                         NaN  \n",
       "2                         NaN  \n",
       "3                         NaN  \n",
       "4                         NaN  \n",
       "...                       ...  \n",
       "27800074                  NaN  \n",
       "27800075                  NaN  \n",
       "27800076                  NaN  \n",
       "27800077                  NaN  \n",
       "27800078                  NaN  \n",
       "\n",
       "[27800079 rows x 13 columns]"
      ]
     },
     "execution_count": 6,
     "metadata": {},
     "output_type": "execute_result"
    }
   ],
   "source": [
    "# Vergleich mit pandas\n",
    "import pandas as pd\n",
    "\n",
    "start = time.time()\n",
    "df_pandas = pd.read_csv('../datasets/FoodData_Central_csv_2024-04-18/food_nutrient.csv')\n",
    "stop = time.time()\n",
    "print(f\"Reading CSV took {stop - start} seconds\")\n",
    "df_pandas"
   ]
  },
  {
   "cell_type": "code",
   "execution_count": 7,
   "metadata": {},
   "outputs": [
    {
     "name": "stdout",
     "output_type": "stream",
     "text": [
      "shape: (27_800_079, 3)\n",
      "┌─────────────┬──────────┬─────────────────────┐\n",
      "│ nutrient_id ┆ amount   ┆ percent_daily_value │\n",
      "│ ---         ┆ ---      ┆ ---                 │\n",
      "│ i64         ┆ f64      ┆ str                 │\n",
      "╞═════════════╪══════════╪═════════════════════╡\n",
      "│ 2047        ┆ 40.845   ┆                     │\n",
      "│ 2047        ┆ 37.8755  ┆                     │\n",
      "│ 2047        ┆ 104.2825 ┆                     │\n",
      "│ 2047        ┆ 34.1765  ┆                     │\n",
      "│ 2047        ┆ 22.4763  ┆                     │\n",
      "│ …           ┆ …        ┆ …                   │\n",
      "│ 2069        ┆ 12.2     ┆                     │\n",
      "│ 2069        ┆ 11.1     ┆                     │\n",
      "│ 2069        ┆ 19.7     ┆                     │\n",
      "│ 2069        ┆ 10.9     ┆                     │\n",
      "│ 2069        ┆ 20.4     ┆                     │\n",
      "└─────────────┴──────────┴─────────────────────┘\n"
     ]
    }
   ],
   "source": [
    "# Auswählen der spalten \"nutrient_id\", \"amount\" und \"percent_daily_value\"\n",
    "selected = df.select(\n",
    "    pl.col('nutrient_id'),\n",
    "    pl.col('amount'),\n",
    "    pl.col('percent_daily_value')\n",
    ")\n",
    "print(selected)"
   ]
  },
  {
   "cell_type": "code",
   "execution_count": 8,
   "metadata": {},
   "outputs": [
    {
     "data": {
      "text/html": [
       "<div><style>\n",
       ".dataframe > thead > tr,\n",
       ".dataframe > tbody > tr {\n",
       "  text-align: right;\n",
       "  white-space: pre-wrap;\n",
       "}\n",
       "</style>\n",
       "<small>shape: (27_800_052, 17)</small><table border=\"1\" class=\"dataframe\"><thead><tr><th>id</th><th>fdc_id</th><th>nutrient_id</th><th>amount</th><th>data_points</th><th>derivation_id</th><th>min</th><th>max</th><th>median</th><th>loq</th><th>footnote</th><th>min_year_acquired</th><th>percent_daily_value</th><th>name</th><th>unit_name</th><th>nutrient_nbr</th><th>rank</th></tr><tr><td>i64</td><td>i64</td><td>i64</td><td>f64</td><td>str</td><td>i64</td><td>str</td><td>str</td><td>str</td><td>str</td><td>str</td><td>str</td><td>str</td><td>str</td><td>str</td><td>f64</td><td>str</td></tr></thead><tbody><tr><td>33831549</td><td>2685582</td><td>2047</td><td>40.845</td><td>&quot;&quot;</td><td>49</td><td>&quot;&quot;</td><td>&quot;&quot;</td><td>&quot;&quot;</td><td>&quot;&quot;</td><td>&quot;&quot;</td><td>&quot;&quot;</td><td>&quot;&quot;</td><td>&quot;Energy (Atwater General Factor…</td><td>&quot;KCAL&quot;</td><td>957.0</td><td>&quot;280.0&quot;</td></tr><tr><td>33831544</td><td>2685581</td><td>2047</td><td>37.8755</td><td>&quot;&quot;</td><td>49</td><td>&quot;&quot;</td><td>&quot;&quot;</td><td>&quot;&quot;</td><td>&quot;&quot;</td><td>&quot;&quot;</td><td>&quot;&quot;</td><td>&quot;&quot;</td><td>&quot;Energy (Atwater General Factor…</td><td>&quot;KCAL&quot;</td><td>957.0</td><td>&quot;280.0&quot;</td></tr><tr><td>33831539</td><td>2685580</td><td>2047</td><td>104.2825</td><td>&quot;&quot;</td><td>49</td><td>&quot;&quot;</td><td>&quot;&quot;</td><td>&quot;&quot;</td><td>&quot;&quot;</td><td>&quot;&quot;</td><td>&quot;&quot;</td><td>&quot;&quot;</td><td>&quot;Energy (Atwater General Factor…</td><td>&quot;KCAL&quot;</td><td>957.0</td><td>&quot;280.0&quot;</td></tr><tr><td>33831534</td><td>2685579</td><td>2047</td><td>34.1765</td><td>&quot;&quot;</td><td>49</td><td>&quot;&quot;</td><td>&quot;&quot;</td><td>&quot;&quot;</td><td>&quot;&quot;</td><td>&quot;&quot;</td><td>&quot;&quot;</td><td>&quot;&quot;</td><td>&quot;Energy (Atwater General Factor…</td><td>&quot;KCAL&quot;</td><td>957.0</td><td>&quot;280.0&quot;</td></tr><tr><td>33831529</td><td>2685578</td><td>2047</td><td>22.4763</td><td>&quot;&quot;</td><td>49</td><td>&quot;&quot;</td><td>&quot;&quot;</td><td>&quot;&quot;</td><td>&quot;&quot;</td><td>&quot;&quot;</td><td>&quot;&quot;</td><td>&quot;&quot;</td><td>&quot;Energy (Atwater General Factor…</td><td>&quot;KCAL&quot;</td><td>957.0</td><td>&quot;280.0&quot;</td></tr><tr><td>&hellip;</td><td>&hellip;</td><td>&hellip;</td><td>&hellip;</td><td>&hellip;</td><td>&hellip;</td><td>&hellip;</td><td>&hellip;</td><td>&hellip;</td><td>&hellip;</td><td>&hellip;</td><td>&hellip;</td><td>&hellip;</td><td>&hellip;</td><td>&hellip;</td><td>&hellip;</td><td>&hellip;</td></tr><tr><td>33291454</td><td>2643662</td><td>2069</td><td>12.2</td><td>&quot;1&quot;</td><td>1</td><td>&quot;&quot;</td><td>&quot;&quot;</td><td>&quot;&quot;</td><td>&quot;&quot;</td><td>&quot;&quot;</td><td>&quot;&quot;</td><td>&quot;&quot;</td><td>&quot;Glutathione&quot;</td><td>&quot;MG&quot;</td><td>961.0</td><td>&quot;9000&quot;</td></tr><tr><td>33291455</td><td>2643663</td><td>2069</td><td>11.1</td><td>&quot;1&quot;</td><td>1</td><td>&quot;&quot;</td><td>&quot;&quot;</td><td>&quot;&quot;</td><td>&quot;&quot;</td><td>&quot;&quot;</td><td>&quot;&quot;</td><td>&quot;&quot;</td><td>&quot;Glutathione&quot;</td><td>&quot;MG&quot;</td><td>961.0</td><td>&quot;9000&quot;</td></tr><tr><td>33291456</td><td>2643664</td><td>2069</td><td>19.7</td><td>&quot;1&quot;</td><td>1</td><td>&quot;&quot;</td><td>&quot;&quot;</td><td>&quot;&quot;</td><td>&quot;&quot;</td><td>&quot;&quot;</td><td>&quot;&quot;</td><td>&quot;&quot;</td><td>&quot;Glutathione&quot;</td><td>&quot;MG&quot;</td><td>961.0</td><td>&quot;9000&quot;</td></tr><tr><td>33291457</td><td>2643665</td><td>2069</td><td>10.9</td><td>&quot;1&quot;</td><td>1</td><td>&quot;&quot;</td><td>&quot;&quot;</td><td>&quot;&quot;</td><td>&quot;&quot;</td><td>&quot;&quot;</td><td>&quot;&quot;</td><td>&quot;&quot;</td><td>&quot;Glutathione&quot;</td><td>&quot;MG&quot;</td><td>961.0</td><td>&quot;9000&quot;</td></tr><tr><td>33291458</td><td>2643666</td><td>2069</td><td>20.4</td><td>&quot;1&quot;</td><td>1</td><td>&quot;&quot;</td><td>&quot;&quot;</td><td>&quot;&quot;</td><td>&quot;&quot;</td><td>&quot;&quot;</td><td>&quot;&quot;</td><td>&quot;&quot;</td><td>&quot;Glutathione&quot;</td><td>&quot;MG&quot;</td><td>961.0</td><td>&quot;9000&quot;</td></tr></tbody></table></div>"
      ],
      "text/plain": [
       "shape: (27_800_052, 17)\n",
       "┌──────────┬─────────┬─────────────┬──────────┬───┬──────────────┬───────────┬─────────────┬───────┐\n",
       "│ id       ┆ fdc_id  ┆ nutrient_id ┆ amount   ┆ … ┆ name         ┆ unit_name ┆ nutrient_nb ┆ rank  │\n",
       "│ ---      ┆ ---     ┆ ---         ┆ ---      ┆   ┆ ---          ┆ ---       ┆ r           ┆ ---   │\n",
       "│ i64      ┆ i64     ┆ i64         ┆ f64      ┆   ┆ str          ┆ str       ┆ ---         ┆ str   │\n",
       "│          ┆         ┆             ┆          ┆   ┆              ┆           ┆ f64         ┆       │\n",
       "╞══════════╪═════════╪═════════════╪══════════╪═══╪══════════════╪═══════════╪═════════════╪═══════╡\n",
       "│ 33831549 ┆ 2685582 ┆ 2047        ┆ 40.845   ┆ … ┆ Energy       ┆ KCAL      ┆ 957.0       ┆ 280.0 │\n",
       "│          ┆         ┆             ┆          ┆   ┆ (Atwater     ┆           ┆             ┆       │\n",
       "│          ┆         ┆             ┆          ┆   ┆ General      ┆           ┆             ┆       │\n",
       "│          ┆         ┆             ┆          ┆   ┆ Factor…      ┆           ┆             ┆       │\n",
       "│ 33831544 ┆ 2685581 ┆ 2047        ┆ 37.8755  ┆ … ┆ Energy       ┆ KCAL      ┆ 957.0       ┆ 280.0 │\n",
       "│          ┆         ┆             ┆          ┆   ┆ (Atwater     ┆           ┆             ┆       │\n",
       "│          ┆         ┆             ┆          ┆   ┆ General      ┆           ┆             ┆       │\n",
       "│          ┆         ┆             ┆          ┆   ┆ Factor…      ┆           ┆             ┆       │\n",
       "│ 33831539 ┆ 2685580 ┆ 2047        ┆ 104.2825 ┆ … ┆ Energy       ┆ KCAL      ┆ 957.0       ┆ 280.0 │\n",
       "│          ┆         ┆             ┆          ┆   ┆ (Atwater     ┆           ┆             ┆       │\n",
       "│          ┆         ┆             ┆          ┆   ┆ General      ┆           ┆             ┆       │\n",
       "│          ┆         ┆             ┆          ┆   ┆ Factor…      ┆           ┆             ┆       │\n",
       "│ 33831534 ┆ 2685579 ┆ 2047        ┆ 34.1765  ┆ … ┆ Energy       ┆ KCAL      ┆ 957.0       ┆ 280.0 │\n",
       "│          ┆         ┆             ┆          ┆   ┆ (Atwater     ┆           ┆             ┆       │\n",
       "│          ┆         ┆             ┆          ┆   ┆ General      ┆           ┆             ┆       │\n",
       "│          ┆         ┆             ┆          ┆   ┆ Factor…      ┆           ┆             ┆       │\n",
       "│ 33831529 ┆ 2685578 ┆ 2047        ┆ 22.4763  ┆ … ┆ Energy       ┆ KCAL      ┆ 957.0       ┆ 280.0 │\n",
       "│          ┆         ┆             ┆          ┆   ┆ (Atwater     ┆           ┆             ┆       │\n",
       "│          ┆         ┆             ┆          ┆   ┆ General      ┆           ┆             ┆       │\n",
       "│          ┆         ┆             ┆          ┆   ┆ Factor…      ┆           ┆             ┆       │\n",
       "│ …        ┆ …       ┆ …           ┆ …        ┆ … ┆ …            ┆ …         ┆ …           ┆ …     │\n",
       "│ 33291454 ┆ 2643662 ┆ 2069        ┆ 12.2     ┆ … ┆ Glutathione  ┆ MG        ┆ 961.0       ┆ 9000  │\n",
       "│ 33291455 ┆ 2643663 ┆ 2069        ┆ 11.1     ┆ … ┆ Glutathione  ┆ MG        ┆ 961.0       ┆ 9000  │\n",
       "│ 33291456 ┆ 2643664 ┆ 2069        ┆ 19.7     ┆ … ┆ Glutathione  ┆ MG        ┆ 961.0       ┆ 9000  │\n",
       "│ 33291457 ┆ 2643665 ┆ 2069        ┆ 10.9     ┆ … ┆ Glutathione  ┆ MG        ┆ 961.0       ┆ 9000  │\n",
       "│ 33291458 ┆ 2643666 ┆ 2069        ┆ 20.4     ┆ … ┆ Glutathione  ┆ MG        ┆ 961.0       ┆ 9000  │\n",
       "└──────────┴─────────┴─────────────┴──────────┴───┴──────────────┴───────────┴─────────────┴───────┘"
      ]
     },
     "execution_count": 8,
     "metadata": {},
     "output_type": "execute_result"
    }
   ],
   "source": [
    "# Joinen mit der Table \"nutrient\"\n",
    "\n",
    "nutrient = pl.read_csv('../datasets/FoodData_Central_csv_2024-04-18/nutrient.csv')\n",
    "\n",
    "df = df.join(nutrient, left_on='nutrient_id', right_on='id', how='inner')\n",
    "df"
   ]
  },
  {
   "cell_type": "code",
   "execution_count": 11,
   "metadata": {},
   "outputs": [
    {
     "data": {
      "text/html": [
       "<div><style>\n",
       ".dataframe > thead > tr,\n",
       ".dataframe > tbody > tr {\n",
       "  text-align: right;\n",
       "  white-space: pre-wrap;\n",
       "}\n",
       "</style>\n",
       "<small>shape: (26_455_322, 21)</small><table border=\"1\" class=\"dataframe\"><thead><tr><th>id</th><th>fdc_id</th><th>nutrient_id</th><th>amount</th><th>data_points</th><th>derivation_id</th><th>min</th><th>max</th><th>median</th><th>loq</th><th>footnote</th><th>min_year_acquired</th><th>percent_daily_value</th><th>name</th><th>unit_name</th><th>nutrient_nbr</th><th>rank</th><th>data_type</th><th>description</th><th>food_category_id</th><th>publication_date</th></tr><tr><td>i64</td><td>i64</td><td>i64</td><td>f64</td><td>str</td><td>i64</td><td>str</td><td>str</td><td>str</td><td>str</td><td>str</td><td>str</td><td>str</td><td>str</td><td>str</td><td>f64</td><td>str</td><td>str</td><td>str</td><td>str</td><td>str</td></tr></thead><tbody><tr><td>33831549</td><td>2685582</td><td>2047</td><td>40.845</td><td>&quot;&quot;</td><td>49</td><td>&quot;&quot;</td><td>&quot;&quot;</td><td>&quot;&quot;</td><td>&quot;&quot;</td><td>&quot;&quot;</td><td>&quot;&quot;</td><td>&quot;&quot;</td><td>&quot;Energy (Atwater General Factor…</td><td>&quot;KCAL&quot;</td><td>957.0</td><td>&quot;280.0&quot;</td><td>&quot;foundation_food&quot;</td><td>&quot;Tomato, puree, canned&quot;</td><td>&quot;11&quot;</td><td>&quot;2024-04-18&quot;</td></tr><tr><td>33831544</td><td>2685581</td><td>2047</td><td>37.8755</td><td>&quot;&quot;</td><td>49</td><td>&quot;&quot;</td><td>&quot;&quot;</td><td>&quot;&quot;</td><td>&quot;&quot;</td><td>&quot;&quot;</td><td>&quot;&quot;</td><td>&quot;&quot;</td><td>&quot;Energy (Atwater General Factor…</td><td>&quot;KCAL&quot;</td><td>957.0</td><td>&quot;280.0&quot;</td><td>&quot;foundation_food&quot;</td><td>&quot;Tomatoes, crushed, canned&quot;</td><td>&quot;11&quot;</td><td>&quot;2024-04-18&quot;</td></tr><tr><td>33831539</td><td>2685580</td><td>2047</td><td>104.2825</td><td>&quot;&quot;</td><td>49</td><td>&quot;&quot;</td><td>&quot;&quot;</td><td>&quot;&quot;</td><td>&quot;&quot;</td><td>&quot;&quot;</td><td>&quot;&quot;</td><td>&quot;&quot;</td><td>&quot;Energy (Atwater General Factor…</td><td>&quot;KCAL&quot;</td><td>957.0</td><td>&quot;280.0&quot;</td><td>&quot;foundation_food&quot;</td><td>&quot;Tomato, paste, canned, without…</td><td>&quot;11&quot;</td><td>&quot;2024-04-18&quot;</td></tr><tr><td>33831534</td><td>2685579</td><td>2047</td><td>34.1765</td><td>&quot;&quot;</td><td>49</td><td>&quot;&quot;</td><td>&quot;&quot;</td><td>&quot;&quot;</td><td>&quot;&quot;</td><td>&quot;&quot;</td><td>&quot;&quot;</td><td>&quot;&quot;</td><td>&quot;Energy (Atwater General Factor…</td><td>&quot;KCAL&quot;</td><td>957.0</td><td>&quot;280.0&quot;</td><td>&quot;foundation_food&quot;</td><td>&quot;Tomato, sauce, canned, with sa…</td><td>&quot;11&quot;</td><td>&quot;2024-04-18&quot;</td></tr><tr><td>33831529</td><td>2685578</td><td>2047</td><td>22.4763</td><td>&quot;&quot;</td><td>49</td><td>&quot;&quot;</td><td>&quot;&quot;</td><td>&quot;&quot;</td><td>&quot;&quot;</td><td>&quot;&quot;</td><td>&quot;&quot;</td><td>&quot;&quot;</td><td>&quot;Energy (Atwater General Factor…</td><td>&quot;KCAL&quot;</td><td>957.0</td><td>&quot;280.0&quot;</td><td>&quot;foundation_food&quot;</td><td>&quot;Tomatoes, whole, canned, solid…</td><td>&quot;11&quot;</td><td>&quot;2024-04-18&quot;</td></tr><tr><td>&hellip;</td><td>&hellip;</td><td>&hellip;</td><td>&hellip;</td><td>&hellip;</td><td>&hellip;</td><td>&hellip;</td><td>&hellip;</td><td>&hellip;</td><td>&hellip;</td><td>&hellip;</td><td>&hellip;</td><td>&hellip;</td><td>&hellip;</td><td>&hellip;</td><td>&hellip;</td><td>&hellip;</td><td>&hellip;</td><td>&hellip;</td><td>&hellip;</td><td>&hellip;</td></tr><tr><td>33291454</td><td>2643662</td><td>2069</td><td>12.2</td><td>&quot;1&quot;</td><td>1</td><td>&quot;&quot;</td><td>&quot;&quot;</td><td>&quot;&quot;</td><td>&quot;&quot;</td><td>&quot;&quot;</td><td>&quot;&quot;</td><td>&quot;&quot;</td><td>&quot;Glutathione&quot;</td><td>&quot;MG&quot;</td><td>961.0</td><td>&quot;9000&quot;</td><td>&quot;sub_sample_food&quot;</td><td>&quot;mushrooms, king oyster&quot;</td><td>&quot;&quot;</td><td>&quot;7/12/2023&quot;</td></tr><tr><td>33291455</td><td>2643663</td><td>2069</td><td>11.1</td><td>&quot;1&quot;</td><td>1</td><td>&quot;&quot;</td><td>&quot;&quot;</td><td>&quot;&quot;</td><td>&quot;&quot;</td><td>&quot;&quot;</td><td>&quot;&quot;</td><td>&quot;&quot;</td><td>&quot;Glutathione&quot;</td><td>&quot;MG&quot;</td><td>961.0</td><td>&quot;9000&quot;</td><td>&quot;sub_sample_food&quot;</td><td>&quot;mushrooms, king oyster&quot;</td><td>&quot;&quot;</td><td>&quot;8/10/2023&quot;</td></tr><tr><td>33291456</td><td>2643664</td><td>2069</td><td>19.7</td><td>&quot;1&quot;</td><td>1</td><td>&quot;&quot;</td><td>&quot;&quot;</td><td>&quot;&quot;</td><td>&quot;&quot;</td><td>&quot;&quot;</td><td>&quot;&quot;</td><td>&quot;&quot;</td><td>&quot;Glutathione&quot;</td><td>&quot;MG&quot;</td><td>961.0</td><td>&quot;9000&quot;</td><td>&quot;sub_sample_food&quot;</td><td>&quot;mushrooms, king oyster&quot;</td><td>&quot;&quot;</td><td>&quot;8/16/2023&quot;</td></tr><tr><td>33291457</td><td>2643665</td><td>2069</td><td>10.9</td><td>&quot;1&quot;</td><td>1</td><td>&quot;&quot;</td><td>&quot;&quot;</td><td>&quot;&quot;</td><td>&quot;&quot;</td><td>&quot;&quot;</td><td>&quot;&quot;</td><td>&quot;&quot;</td><td>&quot;Glutathione&quot;</td><td>&quot;MG&quot;</td><td>961.0</td><td>&quot;9000&quot;</td><td>&quot;sub_sample_food&quot;</td><td>&quot;mushrooms, king oyster&quot;</td><td>&quot;&quot;</td><td>&quot;6/2/2023&quot;</td></tr><tr><td>33291458</td><td>2643666</td><td>2069</td><td>20.4</td><td>&quot;1&quot;</td><td>1</td><td>&quot;&quot;</td><td>&quot;&quot;</td><td>&quot;&quot;</td><td>&quot;&quot;</td><td>&quot;&quot;</td><td>&quot;&quot;</td><td>&quot;&quot;</td><td>&quot;Glutathione&quot;</td><td>&quot;MG&quot;</td><td>961.0</td><td>&quot;9000&quot;</td><td>&quot;sub_sample_food&quot;</td><td>&quot;mushrooms, king oyster&quot;</td><td>&quot;&quot;</td><td>&quot;6/12/2023&quot;</td></tr></tbody></table></div>"
      ],
      "text/plain": [
       "shape: (26_455_322, 21)\n",
       "┌──────────┬─────────┬────────────┬──────────┬───┬────────────┬────────────┬───────────┬───────────┐\n",
       "│ id       ┆ fdc_id  ┆ nutrient_i ┆ amount   ┆ … ┆ data_type  ┆ descriptio ┆ food_cate ┆ publicati │\n",
       "│ ---      ┆ ---     ┆ d          ┆ ---      ┆   ┆ ---        ┆ n          ┆ gory_id   ┆ on_date   │\n",
       "│ i64      ┆ i64     ┆ ---        ┆ f64      ┆   ┆ str        ┆ ---        ┆ ---       ┆ ---       │\n",
       "│          ┆         ┆ i64        ┆          ┆   ┆            ┆ str        ┆ str       ┆ str       │\n",
       "╞══════════╪═════════╪════════════╪══════════╪═══╪════════════╪════════════╪═══════════╪═══════════╡\n",
       "│ 33831549 ┆ 2685582 ┆ 2047       ┆ 40.845   ┆ … ┆ foundation ┆ Tomato,    ┆ 11        ┆ 2024-04-1 │\n",
       "│          ┆         ┆            ┆          ┆   ┆ _food      ┆ puree,     ┆           ┆ 8         │\n",
       "│          ┆         ┆            ┆          ┆   ┆            ┆ canned     ┆           ┆           │\n",
       "│ 33831544 ┆ 2685581 ┆ 2047       ┆ 37.8755  ┆ … ┆ foundation ┆ Tomatoes,  ┆ 11        ┆ 2024-04-1 │\n",
       "│          ┆         ┆            ┆          ┆   ┆ _food      ┆ crushed,   ┆           ┆ 8         │\n",
       "│          ┆         ┆            ┆          ┆   ┆            ┆ canned     ┆           ┆           │\n",
       "│ 33831539 ┆ 2685580 ┆ 2047       ┆ 104.2825 ┆ … ┆ foundation ┆ Tomato,    ┆ 11        ┆ 2024-04-1 │\n",
       "│          ┆         ┆            ┆          ┆   ┆ _food      ┆ paste,     ┆           ┆ 8         │\n",
       "│          ┆         ┆            ┆          ┆   ┆            ┆ canned,    ┆           ┆           │\n",
       "│          ┆         ┆            ┆          ┆   ┆            ┆ without…   ┆           ┆           │\n",
       "│ 33831534 ┆ 2685579 ┆ 2047       ┆ 34.1765  ┆ … ┆ foundation ┆ Tomato,    ┆ 11        ┆ 2024-04-1 │\n",
       "│          ┆         ┆            ┆          ┆   ┆ _food      ┆ sauce,     ┆           ┆ 8         │\n",
       "│          ┆         ┆            ┆          ┆   ┆            ┆ canned,    ┆           ┆           │\n",
       "│          ┆         ┆            ┆          ┆   ┆            ┆ with sa…   ┆           ┆           │\n",
       "│ 33831529 ┆ 2685578 ┆ 2047       ┆ 22.4763  ┆ … ┆ foundation ┆ Tomatoes,  ┆ 11        ┆ 2024-04-1 │\n",
       "│          ┆         ┆            ┆          ┆   ┆ _food      ┆ whole,     ┆           ┆ 8         │\n",
       "│          ┆         ┆            ┆          ┆   ┆            ┆ canned,    ┆           ┆           │\n",
       "│          ┆         ┆            ┆          ┆   ┆            ┆ solid…     ┆           ┆           │\n",
       "│ …        ┆ …       ┆ …          ┆ …        ┆ … ┆ …          ┆ …          ┆ …         ┆ …         │\n",
       "│ 33291454 ┆ 2643662 ┆ 2069       ┆ 12.2     ┆ … ┆ sub_sample ┆ mushrooms, ┆           ┆ 7/12/2023 │\n",
       "│          ┆         ┆            ┆          ┆   ┆ _food      ┆ king       ┆           ┆           │\n",
       "│          ┆         ┆            ┆          ┆   ┆            ┆ oyster     ┆           ┆           │\n",
       "│ 33291455 ┆ 2643663 ┆ 2069       ┆ 11.1     ┆ … ┆ sub_sample ┆ mushrooms, ┆           ┆ 8/10/2023 │\n",
       "│          ┆         ┆            ┆          ┆   ┆ _food      ┆ king       ┆           ┆           │\n",
       "│          ┆         ┆            ┆          ┆   ┆            ┆ oyster     ┆           ┆           │\n",
       "│ 33291456 ┆ 2643664 ┆ 2069       ┆ 19.7     ┆ … ┆ sub_sample ┆ mushrooms, ┆           ┆ 8/16/2023 │\n",
       "│          ┆         ┆            ┆          ┆   ┆ _food      ┆ king       ┆           ┆           │\n",
       "│          ┆         ┆            ┆          ┆   ┆            ┆ oyster     ┆           ┆           │\n",
       "│ 33291457 ┆ 2643665 ┆ 2069       ┆ 10.9     ┆ … ┆ sub_sample ┆ mushrooms, ┆           ┆ 6/2/2023  │\n",
       "│          ┆         ┆            ┆          ┆   ┆ _food      ┆ king       ┆           ┆           │\n",
       "│          ┆         ┆            ┆          ┆   ┆            ┆ oyster     ┆           ┆           │\n",
       "│ 33291458 ┆ 2643666 ┆ 2069       ┆ 20.4     ┆ … ┆ sub_sample ┆ mushrooms, ┆           ┆ 6/12/2023 │\n",
       "│          ┆         ┆            ┆          ┆   ┆ _food      ┆ king       ┆           ┆           │\n",
       "│          ┆         ┆            ┆          ┆   ┆            ┆ oyster     ┆           ┆           │\n",
       "└──────────┴─────────┴────────────┴──────────┴───┴────────────┴────────────┴───────────┴───────────┘"
      ]
     },
     "execution_count": 11,
     "metadata": {},
     "output_type": "execute_result"
    }
   ],
   "source": [
    "# join mit der Tabelle \"food\"\n",
    "\n",
    "food = pl.read_csv('../datasets/FoodData_Central_csv_2024-04-18/food.csv')\n",
    "\n",
    "df = df.join(food, on='fdc_id', how='inner')\n",
    "df"
   ]
  },
  {
   "cell_type": "code",
   "execution_count": 12,
   "metadata": {},
   "outputs": [
    {
     "data": {
      "text/html": [
       "<div><style>\n",
       ".dataframe > thead > tr,\n",
       ".dataframe > tbody > tr {\n",
       "  text-align: right;\n",
       "  white-space: pre-wrap;\n",
       "}\n",
       "</style>\n",
       "<small>shape: (26_455_322, 3)</small><table border=\"1\" class=\"dataframe\"><thead><tr><th>description</th><th>nutrient_name</th><th>amount_with_unit</th></tr><tr><td>str</td><td>str</td><td>str</td></tr></thead><tbody><tr><td>&quot;Tomato, puree, canned&quot;</td><td>&quot;Energy (Atwater General Factor…</td><td>&quot;40.845 KCAL&quot;</td></tr><tr><td>&quot;Tomatoes, crushed, canned&quot;</td><td>&quot;Energy (Atwater General Factor…</td><td>&quot;37.8755 KCAL&quot;</td></tr><tr><td>&quot;Tomato, paste, canned, without…</td><td>&quot;Energy (Atwater General Factor…</td><td>&quot;104.2825 KCAL&quot;</td></tr><tr><td>&quot;Tomato, sauce, canned, with sa…</td><td>&quot;Energy (Atwater General Factor…</td><td>&quot;34.1765 KCAL&quot;</td></tr><tr><td>&quot;Tomatoes, whole, canned, solid…</td><td>&quot;Energy (Atwater General Factor…</td><td>&quot;22.4763 KCAL&quot;</td></tr><tr><td>&hellip;</td><td>&hellip;</td><td>&hellip;</td></tr><tr><td>&quot;mushrooms, king oyster&quot;</td><td>&quot;Glutathione&quot;</td><td>&quot;12.2 MG&quot;</td></tr><tr><td>&quot;mushrooms, king oyster&quot;</td><td>&quot;Glutathione&quot;</td><td>&quot;11.1 MG&quot;</td></tr><tr><td>&quot;mushrooms, king oyster&quot;</td><td>&quot;Glutathione&quot;</td><td>&quot;19.7 MG&quot;</td></tr><tr><td>&quot;mushrooms, king oyster&quot;</td><td>&quot;Glutathione&quot;</td><td>&quot;10.9 MG&quot;</td></tr><tr><td>&quot;mushrooms, king oyster&quot;</td><td>&quot;Glutathione&quot;</td><td>&quot;20.4 MG&quot;</td></tr></tbody></table></div>"
      ],
      "text/plain": [
       "shape: (26_455_322, 3)\n",
       "┌─────────────────────────────────┬─────────────────────────────────┬──────────────────┐\n",
       "│ description                     ┆ nutrient_name                   ┆ amount_with_unit │\n",
       "│ ---                             ┆ ---                             ┆ ---              │\n",
       "│ str                             ┆ str                             ┆ str              │\n",
       "╞═════════════════════════════════╪═════════════════════════════════╪══════════════════╡\n",
       "│ Tomato, puree, canned           ┆ Energy (Atwater General Factor… ┆ 40.845 KCAL      │\n",
       "│ Tomatoes, crushed, canned       ┆ Energy (Atwater General Factor… ┆ 37.8755 KCAL     │\n",
       "│ Tomato, paste, canned, without… ┆ Energy (Atwater General Factor… ┆ 104.2825 KCAL    │\n",
       "│ Tomato, sauce, canned, with sa… ┆ Energy (Atwater General Factor… ┆ 34.1765 KCAL     │\n",
       "│ Tomatoes, whole, canned, solid… ┆ Energy (Atwater General Factor… ┆ 22.4763 KCAL     │\n",
       "│ …                               ┆ …                               ┆ …                │\n",
       "│ mushrooms, king oyster          ┆ Glutathione                     ┆ 12.2 MG          │\n",
       "│ mushrooms, king oyster          ┆ Glutathione                     ┆ 11.1 MG          │\n",
       "│ mushrooms, king oyster          ┆ Glutathione                     ┆ 19.7 MG          │\n",
       "│ mushrooms, king oyster          ┆ Glutathione                     ┆ 10.9 MG          │\n",
       "│ mushrooms, king oyster          ┆ Glutathione                     ┆ 20.4 MG          │\n",
       "└─────────────────────────────────┴─────────────────────────────────┴──────────────────┘"
      ]
     },
     "execution_count": 12,
     "metadata": {},
     "output_type": "execute_result"
    }
   ],
   "source": [
    "df.select(pl.col('description'),\n",
    "          pl.col('name').alias('nutrient_name'),\n",
    "          pl.concat_str([pl.col('amount').cast(str), pl.lit(\" \"), pl.col('unit_name')]).alias('amount_with_unit'))\n"
   ]
  },
  {
   "cell_type": "code",
   "execution_count": 13,
   "metadata": {},
   "outputs": [
    {
     "data": {
      "text/html": [
       "<div><style>\n",
       ".dataframe > thead > tr,\n",
       ".dataframe > tbody > tr {\n",
       "  text-align: right;\n",
       "  white-space: pre-wrap;\n",
       "}\n",
       "</style>\n",
       "<small>shape: (17_378, 5)</small><table border=\"1\" class=\"dataframe\"><thead><tr><th>description</th><th>nutrient_name</th><th>data_type</th><th>footnote</th><th>amount_with_unit</th></tr><tr><td>str</td><td>str</td><td>str</td><td>str</td><td>str</td></tr></thead><tbody><tr><td>&quot;VEGGIE BURRITO, VEGGIE&quot;</td><td>&quot;Carbohydrate, by difference&quot;</td><td>&quot;branded_food&quot;</td><td>&quot;&quot;</td><td>&quot;12700.0 G&quot;</td></tr><tr><td>&quot;EGG WHITE PROTEIN POWDER, CREA…</td><td>&quot;Glutamic acid&quot;</td><td>&quot;branded_food&quot;</td><td>&quot;&quot;</td><td>&quot;9650.0 G&quot;</td></tr><tr><td>&quot;EGG WHITE PROTEIN POWDER, CREA…</td><td>&quot;Glutamic acid&quot;</td><td>&quot;branded_food&quot;</td><td>&quot;&quot;</td><td>&quot;9650.0 G&quot;</td></tr><tr><td>&quot;EGG WHITE PROTEIN POWDER&quot;</td><td>&quot;Glutamic acid&quot;</td><td>&quot;branded_food&quot;</td><td>&quot;&quot;</td><td>&quot;9650.0 G&quot;</td></tr><tr><td>&quot;EGG WHITE PROTEIN POWDER, CREA…</td><td>&quot;Aspartic acid&quot;</td><td>&quot;branded_food&quot;</td><td>&quot;&quot;</td><td>&quot;7528.571 G&quot;</td></tr><tr><td>&hellip;</td><td>&hellip;</td><td>&hellip;</td><td>&hellip;</td><td>&hellip;</td></tr><tr><td>&quot;ICED TEA WITH LEMON FLAVORED D…</td><td>&quot;Carbohydrate, by difference&quot;</td><td>&quot;branded_food&quot;</td><td>&quot;&quot;</td><td>&quot;101.01 G&quot;</td></tr><tr><td>&quot;BUTTERCREAM ICING, CHOCOLATE&quot;</td><td>&quot;Carbohydrate, by difference&quot;</td><td>&quot;branded_food&quot;</td><td>&quot;&quot;</td><td>&quot;100.32 G&quot;</td></tr><tr><td>&quot;BUTTERCREAM ICING, CHOCOLATE&quot;</td><td>&quot;Carbohydrate, by difference&quot;</td><td>&quot;branded_food&quot;</td><td>&quot;&quot;</td><td>&quot;100.32 G&quot;</td></tr><tr><td>&quot;BUTTERCREAM ICING, CHOCOLATE&quot;</td><td>&quot;Carbohydrate, by difference&quot;</td><td>&quot;branded_food&quot;</td><td>&quot;&quot;</td><td>&quot;100.32 G&quot;</td></tr><tr><td>&quot;BUTTERCREAM ICING, CHOCOLATE&quot;</td><td>&quot;Carbohydrate, by difference&quot;</td><td>&quot;branded_food&quot;</td><td>&quot;&quot;</td><td>&quot;100.32 G&quot;</td></tr></tbody></table></div>"
      ],
      "text/plain": [
       "shape: (17_378, 5)\n",
       "┌──────────────────────────────────┬──────────────────┬──────────────┬──────────┬──────────────────┐\n",
       "│ description                      ┆ nutrient_name    ┆ data_type    ┆ footnote ┆ amount_with_unit │\n",
       "│ ---                              ┆ ---              ┆ ---          ┆ ---      ┆ ---              │\n",
       "│ str                              ┆ str              ┆ str          ┆ str      ┆ str              │\n",
       "╞══════════════════════════════════╪══════════════════╪══════════════╪══════════╪══════════════════╡\n",
       "│ VEGGIE BURRITO, VEGGIE           ┆ Carbohydrate, by ┆ branded_food ┆          ┆ 12700.0 G        │\n",
       "│                                  ┆ difference       ┆              ┆          ┆                  │\n",
       "│ EGG WHITE PROTEIN POWDER, CREA…  ┆ Glutamic acid    ┆ branded_food ┆          ┆ 9650.0 G         │\n",
       "│ EGG WHITE PROTEIN POWDER, CREA…  ┆ Glutamic acid    ┆ branded_food ┆          ┆ 9650.0 G         │\n",
       "│ EGG WHITE PROTEIN POWDER         ┆ Glutamic acid    ┆ branded_food ┆          ┆ 9650.0 G         │\n",
       "│ EGG WHITE PROTEIN POWDER, CREA…  ┆ Aspartic acid    ┆ branded_food ┆          ┆ 7528.571 G       │\n",
       "│ …                                ┆ …                ┆ …            ┆ …        ┆ …                │\n",
       "│ ICED TEA WITH LEMON FLAVORED D…  ┆ Carbohydrate, by ┆ branded_food ┆          ┆ 101.01 G         │\n",
       "│                                  ┆ difference       ┆              ┆          ┆                  │\n",
       "│ BUTTERCREAM ICING, CHOCOLATE     ┆ Carbohydrate, by ┆ branded_food ┆          ┆ 100.32 G         │\n",
       "│                                  ┆ difference       ┆              ┆          ┆                  │\n",
       "│ BUTTERCREAM ICING, CHOCOLATE     ┆ Carbohydrate, by ┆ branded_food ┆          ┆ 100.32 G         │\n",
       "│                                  ┆ difference       ┆              ┆          ┆                  │\n",
       "│ BUTTERCREAM ICING, CHOCOLATE     ┆ Carbohydrate, by ┆ branded_food ┆          ┆ 100.32 G         │\n",
       "│                                  ┆ difference       ┆              ┆          ┆                  │\n",
       "│ BUTTERCREAM ICING, CHOCOLATE     ┆ Carbohydrate, by ┆ branded_food ┆          ┆ 100.32 G         │\n",
       "│                                  ┆ difference       ┆              ┆          ┆                  │\n",
       "└──────────────────────────────────┴──────────────────┴──────────────┴──────────┴──────────────────┘"
      ]
     },
     "execution_count": 13,
     "metadata": {},
     "output_type": "execute_result"
    }
   ],
   "source": [
    "selected_columns = [pl.col('description'),\n",
    "                    pl.col('name').alias('nutrient_name'),\n",
    "                    pl.col('data_type'),\n",
    "                    pl.col('footnote'),\n",
    "                    pl.concat_str([pl.col('amount').cast(str), \n",
    "                                   pl.lit(\" \"), \n",
    "                                   pl.col('unit_name')]).alias('amount_with_unit')\n",
    "                    ]\n",
    "\n",
    "filtered = df.filter(pl.col('amount') > 100, pl.col(\n",
    "    \"unit_name\") == \"G\").sort(\"amount\", descending=True).select(selected_columns)\n",
    "filtered"
   ]
  },
  {
   "cell_type": "code",
   "execution_count": 14,
   "metadata": {},
   "outputs": [
    {
     "data": {
      "text/html": [
       "<div><style>\n",
       ".dataframe > thead > tr,\n",
       ".dataframe > tbody > tr {\n",
       "  text-align: right;\n",
       "  white-space: pre-wrap;\n",
       "}\n",
       "</style>\n",
       "<small>shape: (1, 1)</small><table border=\"1\" class=\"dataframe\"><thead><tr><th>data_type</th></tr><tr><td>str</td></tr></thead><tbody><tr><td>&quot;branded_food&quot;</td></tr></tbody></table></div>"
      ],
      "text/plain": [
       "shape: (1, 1)\n",
       "┌──────────────┐\n",
       "│ data_type    │\n",
       "│ ---          │\n",
       "│ str          │\n",
       "╞══════════════╡\n",
       "│ branded_food │\n",
       "└──────────────┘"
      ]
     },
     "execution_count": 14,
     "metadata": {},
     "output_type": "execute_result"
    }
   ],
   "source": [
    "filtered.select(pl.col('data_type')).unique()"
   ]
  },
  {
   "cell_type": "code",
   "execution_count": 55,
   "metadata": {},
   "outputs": [
    {
     "data": {
      "text/html": [
       "<div><style>\n",
       ".dataframe > thead > tr,\n",
       ".dataframe > tbody > tr {\n",
       "  text-align: right;\n",
       "  white-space: pre-wrap;\n",
       "}\n",
       "</style>\n",
       "<small>shape: (26_455_322, 22)</small><table border=\"1\" class=\"dataframe\"><thead><tr><th>id</th><th>fdc_id</th><th>nutrient_id</th><th>amount</th><th>data_points</th><th>derivation_id</th><th>min</th><th>max</th><th>median</th><th>loq</th><th>footnote</th><th>min_year_acquired</th><th>percent_daily_value</th><th>name</th><th>unit_name</th><th>nutrient_nbr</th><th>rank</th><th>data_type</th><th>description</th><th>food_category_id</th><th>publication_date</th><th>amount_with_unit</th></tr><tr><td>i64</td><td>i64</td><td>i64</td><td>f64</td><td>str</td><td>i64</td><td>str</td><td>str</td><td>str</td><td>str</td><td>str</td><td>str</td><td>str</td><td>str</td><td>str</td><td>f64</td><td>str</td><td>str</td><td>str</td><td>str</td><td>str</td><td>str</td></tr></thead><tbody><tr><td>33831549</td><td>2685582</td><td>2047</td><td>40.845</td><td>&quot;&quot;</td><td>49</td><td>&quot;&quot;</td><td>&quot;&quot;</td><td>&quot;&quot;</td><td>&quot;&quot;</td><td>&quot;&quot;</td><td>&quot;&quot;</td><td>&quot;&quot;</td><td>&quot;Energy (Atwater General Factor…</td><td>&quot;KCAL&quot;</td><td>957.0</td><td>&quot;280.0&quot;</td><td>&quot;foundation_food&quot;</td><td>&quot;Tomato, puree, canned&quot;</td><td>&quot;11&quot;</td><td>&quot;2024-04-18&quot;</td><td>&quot;40.845 KCAL&quot;</td></tr><tr><td>33831544</td><td>2685581</td><td>2047</td><td>37.8755</td><td>&quot;&quot;</td><td>49</td><td>&quot;&quot;</td><td>&quot;&quot;</td><td>&quot;&quot;</td><td>&quot;&quot;</td><td>&quot;&quot;</td><td>&quot;&quot;</td><td>&quot;&quot;</td><td>&quot;Energy (Atwater General Factor…</td><td>&quot;KCAL&quot;</td><td>957.0</td><td>&quot;280.0&quot;</td><td>&quot;foundation_food&quot;</td><td>&quot;Tomatoes, crushed, canned&quot;</td><td>&quot;11&quot;</td><td>&quot;2024-04-18&quot;</td><td>&quot;37.8755 KCAL&quot;</td></tr><tr><td>33831539</td><td>2685580</td><td>2047</td><td>104.2825</td><td>&quot;&quot;</td><td>49</td><td>&quot;&quot;</td><td>&quot;&quot;</td><td>&quot;&quot;</td><td>&quot;&quot;</td><td>&quot;&quot;</td><td>&quot;&quot;</td><td>&quot;&quot;</td><td>&quot;Energy (Atwater General Factor…</td><td>&quot;KCAL&quot;</td><td>957.0</td><td>&quot;280.0&quot;</td><td>&quot;foundation_food&quot;</td><td>&quot;Tomato, paste, canned, without…</td><td>&quot;11&quot;</td><td>&quot;2024-04-18&quot;</td><td>&quot;104.2825 KCAL&quot;</td></tr><tr><td>33831534</td><td>2685579</td><td>2047</td><td>34.1765</td><td>&quot;&quot;</td><td>49</td><td>&quot;&quot;</td><td>&quot;&quot;</td><td>&quot;&quot;</td><td>&quot;&quot;</td><td>&quot;&quot;</td><td>&quot;&quot;</td><td>&quot;&quot;</td><td>&quot;Energy (Atwater General Factor…</td><td>&quot;KCAL&quot;</td><td>957.0</td><td>&quot;280.0&quot;</td><td>&quot;foundation_food&quot;</td><td>&quot;Tomato, sauce, canned, with sa…</td><td>&quot;11&quot;</td><td>&quot;2024-04-18&quot;</td><td>&quot;34.1765 KCAL&quot;</td></tr><tr><td>33831529</td><td>2685578</td><td>2047</td><td>22.4763</td><td>&quot;&quot;</td><td>49</td><td>&quot;&quot;</td><td>&quot;&quot;</td><td>&quot;&quot;</td><td>&quot;&quot;</td><td>&quot;&quot;</td><td>&quot;&quot;</td><td>&quot;&quot;</td><td>&quot;Energy (Atwater General Factor…</td><td>&quot;KCAL&quot;</td><td>957.0</td><td>&quot;280.0&quot;</td><td>&quot;foundation_food&quot;</td><td>&quot;Tomatoes, whole, canned, solid…</td><td>&quot;11&quot;</td><td>&quot;2024-04-18&quot;</td><td>&quot;22.4763 KCAL&quot;</td></tr><tr><td>&hellip;</td><td>&hellip;</td><td>&hellip;</td><td>&hellip;</td><td>&hellip;</td><td>&hellip;</td><td>&hellip;</td><td>&hellip;</td><td>&hellip;</td><td>&hellip;</td><td>&hellip;</td><td>&hellip;</td><td>&hellip;</td><td>&hellip;</td><td>&hellip;</td><td>&hellip;</td><td>&hellip;</td><td>&hellip;</td><td>&hellip;</td><td>&hellip;</td><td>&hellip;</td><td>&hellip;</td></tr><tr><td>33291454</td><td>2643662</td><td>2069</td><td>12.2</td><td>&quot;1&quot;</td><td>1</td><td>&quot;&quot;</td><td>&quot;&quot;</td><td>&quot;&quot;</td><td>&quot;&quot;</td><td>&quot;&quot;</td><td>&quot;&quot;</td><td>&quot;&quot;</td><td>&quot;Glutathione&quot;</td><td>&quot;MG&quot;</td><td>961.0</td><td>&quot;9000&quot;</td><td>&quot;sub_sample_food&quot;</td><td>&quot;mushrooms, king oyster&quot;</td><td>&quot;&quot;</td><td>&quot;7/12/2023&quot;</td><td>&quot;12.2 MG&quot;</td></tr><tr><td>33291455</td><td>2643663</td><td>2069</td><td>11.1</td><td>&quot;1&quot;</td><td>1</td><td>&quot;&quot;</td><td>&quot;&quot;</td><td>&quot;&quot;</td><td>&quot;&quot;</td><td>&quot;&quot;</td><td>&quot;&quot;</td><td>&quot;&quot;</td><td>&quot;Glutathione&quot;</td><td>&quot;MG&quot;</td><td>961.0</td><td>&quot;9000&quot;</td><td>&quot;sub_sample_food&quot;</td><td>&quot;mushrooms, king oyster&quot;</td><td>&quot;&quot;</td><td>&quot;8/10/2023&quot;</td><td>&quot;11.1 MG&quot;</td></tr><tr><td>33291456</td><td>2643664</td><td>2069</td><td>19.7</td><td>&quot;1&quot;</td><td>1</td><td>&quot;&quot;</td><td>&quot;&quot;</td><td>&quot;&quot;</td><td>&quot;&quot;</td><td>&quot;&quot;</td><td>&quot;&quot;</td><td>&quot;&quot;</td><td>&quot;Glutathione&quot;</td><td>&quot;MG&quot;</td><td>961.0</td><td>&quot;9000&quot;</td><td>&quot;sub_sample_food&quot;</td><td>&quot;mushrooms, king oyster&quot;</td><td>&quot;&quot;</td><td>&quot;8/16/2023&quot;</td><td>&quot;19.7 MG&quot;</td></tr><tr><td>33291457</td><td>2643665</td><td>2069</td><td>10.9</td><td>&quot;1&quot;</td><td>1</td><td>&quot;&quot;</td><td>&quot;&quot;</td><td>&quot;&quot;</td><td>&quot;&quot;</td><td>&quot;&quot;</td><td>&quot;&quot;</td><td>&quot;&quot;</td><td>&quot;Glutathione&quot;</td><td>&quot;MG&quot;</td><td>961.0</td><td>&quot;9000&quot;</td><td>&quot;sub_sample_food&quot;</td><td>&quot;mushrooms, king oyster&quot;</td><td>&quot;&quot;</td><td>&quot;6/2/2023&quot;</td><td>&quot;10.9 MG&quot;</td></tr><tr><td>33291458</td><td>2643666</td><td>2069</td><td>20.4</td><td>&quot;1&quot;</td><td>1</td><td>&quot;&quot;</td><td>&quot;&quot;</td><td>&quot;&quot;</td><td>&quot;&quot;</td><td>&quot;&quot;</td><td>&quot;&quot;</td><td>&quot;&quot;</td><td>&quot;Glutathione&quot;</td><td>&quot;MG&quot;</td><td>961.0</td><td>&quot;9000&quot;</td><td>&quot;sub_sample_food&quot;</td><td>&quot;mushrooms, king oyster&quot;</td><td>&quot;&quot;</td><td>&quot;6/12/2023&quot;</td><td>&quot;20.4 MG&quot;</td></tr></tbody></table></div>"
      ],
      "text/plain": [
       "shape: (26_455_322, 22)\n",
       "┌──────────┬─────────┬────────────┬──────────┬───┬────────────┬────────────┬───────────┬───────────┐\n",
       "│ id       ┆ fdc_id  ┆ nutrient_i ┆ amount   ┆ … ┆ descriptio ┆ food_categ ┆ publicati ┆ amount_wi │\n",
       "│ ---      ┆ ---     ┆ d          ┆ ---      ┆   ┆ n          ┆ ory_id     ┆ on_date   ┆ th_unit   │\n",
       "│ i64      ┆ i64     ┆ ---        ┆ f64      ┆   ┆ ---        ┆ ---        ┆ ---       ┆ ---       │\n",
       "│          ┆         ┆ i64        ┆          ┆   ┆ str        ┆ str        ┆ str       ┆ str       │\n",
       "╞══════════╪═════════╪════════════╪══════════╪═══╪════════════╪════════════╪═══════════╪═══════════╡\n",
       "│ 33831549 ┆ 2685582 ┆ 2047       ┆ 40.845   ┆ … ┆ Tomato,    ┆ 11         ┆ 2024-04-1 ┆ 40.845    │\n",
       "│          ┆         ┆            ┆          ┆   ┆ puree,     ┆            ┆ 8         ┆ KCAL      │\n",
       "│          ┆         ┆            ┆          ┆   ┆ canned     ┆            ┆           ┆           │\n",
       "│ 33831544 ┆ 2685581 ┆ 2047       ┆ 37.8755  ┆ … ┆ Tomatoes,  ┆ 11         ┆ 2024-04-1 ┆ 37.8755   │\n",
       "│          ┆         ┆            ┆          ┆   ┆ crushed,   ┆            ┆ 8         ┆ KCAL      │\n",
       "│          ┆         ┆            ┆          ┆   ┆ canned     ┆            ┆           ┆           │\n",
       "│ 33831539 ┆ 2685580 ┆ 2047       ┆ 104.2825 ┆ … ┆ Tomato,    ┆ 11         ┆ 2024-04-1 ┆ 104.2825  │\n",
       "│          ┆         ┆            ┆          ┆   ┆ paste,     ┆            ┆ 8         ┆ KCAL      │\n",
       "│          ┆         ┆            ┆          ┆   ┆ canned,    ┆            ┆           ┆           │\n",
       "│          ┆         ┆            ┆          ┆   ┆ without…   ┆            ┆           ┆           │\n",
       "│ 33831534 ┆ 2685579 ┆ 2047       ┆ 34.1765  ┆ … ┆ Tomato,    ┆ 11         ┆ 2024-04-1 ┆ 34.1765   │\n",
       "│          ┆         ┆            ┆          ┆   ┆ sauce,     ┆            ┆ 8         ┆ KCAL      │\n",
       "│          ┆         ┆            ┆          ┆   ┆ canned,    ┆            ┆           ┆           │\n",
       "│          ┆         ┆            ┆          ┆   ┆ with sa…   ┆            ┆           ┆           │\n",
       "│ 33831529 ┆ 2685578 ┆ 2047       ┆ 22.4763  ┆ … ┆ Tomatoes,  ┆ 11         ┆ 2024-04-1 ┆ 22.4763   │\n",
       "│          ┆         ┆            ┆          ┆   ┆ whole,     ┆            ┆ 8         ┆ KCAL      │\n",
       "│          ┆         ┆            ┆          ┆   ┆ canned,    ┆            ┆           ┆           │\n",
       "│          ┆         ┆            ┆          ┆   ┆ solid…     ┆            ┆           ┆           │\n",
       "│ …        ┆ …       ┆ …          ┆ …        ┆ … ┆ …          ┆ …          ┆ …         ┆ …         │\n",
       "│ 33291454 ┆ 2643662 ┆ 2069       ┆ 12.2     ┆ … ┆ mushrooms, ┆            ┆ 7/12/2023 ┆ 12.2 MG   │\n",
       "│          ┆         ┆            ┆          ┆   ┆ king       ┆            ┆           ┆           │\n",
       "│          ┆         ┆            ┆          ┆   ┆ oyster     ┆            ┆           ┆           │\n",
       "│ 33291455 ┆ 2643663 ┆ 2069       ┆ 11.1     ┆ … ┆ mushrooms, ┆            ┆ 8/10/2023 ┆ 11.1 MG   │\n",
       "│          ┆         ┆            ┆          ┆   ┆ king       ┆            ┆           ┆           │\n",
       "│          ┆         ┆            ┆          ┆   ┆ oyster     ┆            ┆           ┆           │\n",
       "│ 33291456 ┆ 2643664 ┆ 2069       ┆ 19.7     ┆ … ┆ mushrooms, ┆            ┆ 8/16/2023 ┆ 19.7 MG   │\n",
       "│          ┆         ┆            ┆          ┆   ┆ king       ┆            ┆           ┆           │\n",
       "│          ┆         ┆            ┆          ┆   ┆ oyster     ┆            ┆           ┆           │\n",
       "│ 33291457 ┆ 2643665 ┆ 2069       ┆ 10.9     ┆ … ┆ mushrooms, ┆            ┆ 6/2/2023  ┆ 10.9 MG   │\n",
       "│          ┆         ┆            ┆          ┆   ┆ king       ┆            ┆           ┆           │\n",
       "│          ┆         ┆            ┆          ┆   ┆ oyster     ┆            ┆           ┆           │\n",
       "│ 33291458 ┆ 2643666 ┆ 2069       ┆ 20.4     ┆ … ┆ mushrooms, ┆            ┆ 6/12/2023 ┆ 20.4 MG   │\n",
       "│          ┆         ┆            ┆          ┆   ┆ king       ┆            ┆           ┆           │\n",
       "│          ┆         ┆            ┆          ┆   ┆ oyster     ┆            ┆           ┆           │\n",
       "└──────────┴─────────┴────────────┴──────────┴───┴────────────┴────────────┴───────────┴───────────┘"
      ]
     },
     "execution_count": 55,
     "metadata": {},
     "output_type": "execute_result"
    }
   ],
   "source": [
    "df.with_columns(\n",
    "    (pl.col('amount').cast(str) + ' ' + pl.col('unit_name')).alias('amount_with_unit')\n",
    ")\n"
   ]
  },
  {
   "cell_type": "code",
   "execution_count": 16,
   "metadata": {},
   "outputs": [
    {
     "name": "stderr",
     "output_type": "stream",
     "text": [
      "/var/folders/t5/m580657s5rxblthmnv5y6vfm0000gn/T/ipykernel_33195/3733667506.py:3: DeprecationWarning: `GroupBy.count` is deprecated. It has been renamed to `len`.\n",
      "  ).count()\n"
     ]
    },
    {
     "data": {
      "text/html": [
       "<div><style>\n",
       ".dataframe > thead > tr,\n",
       ".dataframe > tbody > tr {\n",
       "  text-align: right;\n",
       "  white-space: pre-wrap;\n",
       "}\n",
       "</style>\n",
       "<small>shape: (266, 2)</small><table border=\"1\" class=\"dataframe\"><thead><tr><th>name</th><th>count</th></tr><tr><td>str</td><td>u32</td></tr></thead><tbody><tr><td>&quot;Aspartic acid&quot;</td><td>5534</td></tr><tr><td>&quot;Water&quot;</td><td>20934</td></tr><tr><td>&quot;SFA 7:0&quot;</td><td>328</td></tr><tr><td>&quot;MUFA 22:1 n-11&quot;</td><td>328</td></tr><tr><td>&quot;Sulfur, S&quot;</td><td>844</td></tr><tr><td>&hellip;</td><td>&hellip;</td></tr><tr><td>&quot;PUFA 20:4 n-6&quot;</td><td>165</td></tr><tr><td>&quot;Thiamin&quot;</td><td>124124</td></tr><tr><td>&quot;Iodine, I&quot;</td><td>10998</td></tr><tr><td>&quot;Stigmasterol&quot;</td><td>319</td></tr><tr><td>&quot;Folate, DFE&quot;</td><td>14033</td></tr></tbody></table></div>"
      ],
      "text/plain": [
       "shape: (266, 2)\n",
       "┌────────────────┬────────┐\n",
       "│ name           ┆ count  │\n",
       "│ ---            ┆ ---    │\n",
       "│ str            ┆ u32    │\n",
       "╞════════════════╪════════╡\n",
       "│ Aspartic acid  ┆ 5534   │\n",
       "│ Water          ┆ 20934  │\n",
       "│ SFA 7:0        ┆ 328    │\n",
       "│ MUFA 22:1 n-11 ┆ 328    │\n",
       "│ Sulfur, S      ┆ 844    │\n",
       "│ …              ┆ …      │\n",
       "│ PUFA 20:4 n-6  ┆ 165    │\n",
       "│ Thiamin        ┆ 124124 │\n",
       "│ Iodine, I      ┆ 10998  │\n",
       "│ Stigmasterol   ┆ 319    │\n",
       "│ Folate, DFE    ┆ 14033  │\n",
       "└────────────────┴────────┘"
      ]
     },
     "execution_count": 16,
     "metadata": {},
     "output_type": "execute_result"
    }
   ],
   "source": [
    "df.group_by(\n",
    "    pl.col(\"name\")\n",
    ").count()"
   ]
  },
  {
   "cell_type": "code",
   "execution_count": 20,
   "metadata": {},
   "outputs": [
    {
     "ename": "ModuleNotFoundError",
     "evalue": "No module named 'pyarrow'",
     "output_type": "error",
     "traceback": [
      "\u001b[0;31m---------------------------------------------------------------------------\u001b[0m",
      "\u001b[0;31mModuleNotFoundError\u001b[0m                       Traceback (most recent call last)",
      "\u001b[0;32m/var/folders/t5/m580657s5rxblthmnv5y6vfm0000gn/T/ipykernel_33195/760790755.py\u001b[0m in \u001b[0;36m?\u001b[0;34m()\u001b[0m\n\u001b[1;32m      1\u001b[0m \u001b[0;32mimport\u001b[0m \u001b[0mpandas\u001b[0m \u001b[0;32mas\u001b[0m \u001b[0mpd\u001b[0m\u001b[0;34m\u001b[0m\u001b[0;34m\u001b[0m\u001b[0m\n\u001b[1;32m      2\u001b[0m \u001b[0;34m\u001b[0m\u001b[0m\n\u001b[0;32m----> 3\u001b[0;31m \u001b[0mdf\u001b[0m\u001b[0;34m.\u001b[0m\u001b[0mto_pandas\u001b[0m\u001b[0;34m(\u001b[0m\u001b[0;34m)\u001b[0m\u001b[0;34m\u001b[0m\u001b[0;34m\u001b[0m\u001b[0m\n\u001b[0m",
      "\u001b[0;32m~/Documents/code/ALDI/wiki-python-experts/venv/lib/python3.12/site-packages/polars/dataframe/frame.py\u001b[0m in \u001b[0;36m?\u001b[0;34m(self, use_pyarrow_extension_array, **kwargs)\u001b[0m\n\u001b[1;32m   2391\u001b[0m             return self._to_pandas_with_object_columns(\n\u001b[1;32m   2392\u001b[0m                 \u001b[0muse_pyarrow_extension_array\u001b[0m\u001b[0;34m=\u001b[0m\u001b[0muse_pyarrow_extension_array\u001b[0m\u001b[0;34m,\u001b[0m \u001b[0;34m**\u001b[0m\u001b[0mkwargs\u001b[0m\u001b[0;34m\u001b[0m\u001b[0;34m\u001b[0m\u001b[0m\n\u001b[1;32m   2393\u001b[0m             \u001b[0;34m)\u001b[0m\u001b[0;34m\u001b[0m\u001b[0;34m\u001b[0m\u001b[0m\n\u001b[1;32m   2394\u001b[0m \u001b[0;34m\u001b[0m\u001b[0m\n\u001b[0;32m-> 2395\u001b[0;31m         return self._to_pandas_without_object_columns(\n\u001b[0m\u001b[1;32m   2396\u001b[0m             \u001b[0mself\u001b[0m\u001b[0;34m,\u001b[0m \u001b[0muse_pyarrow_extension_array\u001b[0m\u001b[0;34m=\u001b[0m\u001b[0muse_pyarrow_extension_array\u001b[0m\u001b[0;34m,\u001b[0m \u001b[0;34m**\u001b[0m\u001b[0mkwargs\u001b[0m\u001b[0;34m\u001b[0m\u001b[0;34m\u001b[0m\u001b[0m\n\u001b[1;32m   2397\u001b[0m         \u001b[0;34m)\u001b[0m\u001b[0;34m\u001b[0m\u001b[0;34m\u001b[0m\u001b[0m\n",
      "\u001b[0;32m~/Documents/code/ALDI/wiki-python-experts/venv/lib/python3.12/site-packages/polars/dataframe/frame.py\u001b[0m in \u001b[0;36m?\u001b[0;34m(self, df, use_pyarrow_extension_array, **kwargs)\u001b[0m\n\u001b[1;32m   2442\u001b[0m     \u001b[0;34m)\u001b[0m \u001b[0;34m->\u001b[0m \u001b[0mpd\u001b[0m\u001b[0;34m.\u001b[0m\u001b[0mDataFrame\u001b[0m\u001b[0;34m:\u001b[0m\u001b[0;34m\u001b[0m\u001b[0;34m\u001b[0m\u001b[0m\n\u001b[1;32m   2443\u001b[0m         \u001b[0;32mif\u001b[0m \u001b[0;32mnot\u001b[0m \u001b[0mdf\u001b[0m\u001b[0;34m.\u001b[0m\u001b[0mwidth\u001b[0m\u001b[0;34m:\u001b[0m  \u001b[0;31m# Empty dataframe, cannot infer schema from batches\u001b[0m\u001b[0;34m\u001b[0m\u001b[0;34m\u001b[0m\u001b[0m\n\u001b[1;32m   2444\u001b[0m             \u001b[0;32mreturn\u001b[0m \u001b[0mpd\u001b[0m\u001b[0;34m.\u001b[0m\u001b[0mDataFrame\u001b[0m\u001b[0;34m(\u001b[0m\u001b[0;34m)\u001b[0m\u001b[0;34m\u001b[0m\u001b[0;34m\u001b[0m\u001b[0m\n\u001b[1;32m   2445\u001b[0m \u001b[0;34m\u001b[0m\u001b[0m\n\u001b[0;32m-> 2446\u001b[0;31m         \u001b[0mrecord_batches\u001b[0m \u001b[0;34m=\u001b[0m \u001b[0mdf\u001b[0m\u001b[0;34m.\u001b[0m\u001b[0m_df\u001b[0m\u001b[0;34m.\u001b[0m\u001b[0mto_pandas\u001b[0m\u001b[0;34m(\u001b[0m\u001b[0;34m)\u001b[0m\u001b[0;34m\u001b[0m\u001b[0;34m\u001b[0m\u001b[0m\n\u001b[0m\u001b[1;32m   2447\u001b[0m         \u001b[0mtbl\u001b[0m \u001b[0;34m=\u001b[0m \u001b[0mpa\u001b[0m\u001b[0;34m.\u001b[0m\u001b[0mTable\u001b[0m\u001b[0;34m.\u001b[0m\u001b[0mfrom_batches\u001b[0m\u001b[0;34m(\u001b[0m\u001b[0mrecord_batches\u001b[0m\u001b[0;34m)\u001b[0m\u001b[0;34m\u001b[0m\u001b[0;34m\u001b[0m\u001b[0m\n\u001b[1;32m   2448\u001b[0m         \u001b[0;32mif\u001b[0m \u001b[0muse_pyarrow_extension_array\u001b[0m\u001b[0;34m:\u001b[0m\u001b[0;34m\u001b[0m\u001b[0;34m\u001b[0m\u001b[0m\n\u001b[1;32m   2449\u001b[0m             return tbl.to_pandas(\n",
      "\u001b[0;31mModuleNotFoundError\u001b[0m: No module named 'pyarrow'"
     ]
    }
   ],
   "source": []
  },
  {
   "cell_type": "code",
   "execution_count": 57,
   "metadata": {},
   "outputs": [
    {
     "data": {
      "text/html": [
       "<div><style>\n",
       ".dataframe > thead > tr,\n",
       ".dataframe > tbody > tr {\n",
       "  text-align: right;\n",
       "  white-space: pre-wrap;\n",
       "}\n",
       "</style>\n",
       "<small>shape: (26_455_322, 1)</small><table border=\"1\" class=\"dataframe\"><thead><tr><th>amount_with_unit</th></tr><tr><td>str</td></tr></thead><tbody><tr><td>&quot;40.845 KCAL&quot;</td></tr><tr><td>&quot;37.8755 KCAL&quot;</td></tr><tr><td>&quot;104.2825 KCAL&quot;</td></tr><tr><td>&quot;34.1765 KCAL&quot;</td></tr><tr><td>&quot;22.4763 KCAL&quot;</td></tr><tr><td>&hellip;</td></tr><tr><td>&quot;12.2 MG&quot;</td></tr><tr><td>&quot;11.1 MG&quot;</td></tr><tr><td>&quot;19.7 MG&quot;</td></tr><tr><td>&quot;10.9 MG&quot;</td></tr><tr><td>&quot;20.4 MG&quot;</td></tr></tbody></table></div>"
      ],
      "text/plain": [
       "shape: (26_455_322, 1)\n",
       "┌──────────────────┐\n",
       "│ amount_with_unit │\n",
       "│ ---              │\n",
       "│ str              │\n",
       "╞══════════════════╡\n",
       "│ 40.845 KCAL      │\n",
       "│ 37.8755 KCAL     │\n",
       "│ 104.2825 KCAL    │\n",
       "│ 34.1765 KCAL     │\n",
       "│ 22.4763 KCAL     │\n",
       "│ …                │\n",
       "│ 12.2 MG          │\n",
       "│ 11.1 MG          │\n",
       "│ 19.7 MG          │\n",
       "│ 10.9 MG          │\n",
       "│ 20.4 MG          │\n",
       "└──────────────────┘"
      ]
     },
     "execution_count": 57,
     "metadata": {},
     "output_type": "execute_result"
    }
   ],
   "source": [
    "df.select(\n",
    "    (pl.col('amount').cast(str) + ' ' +\n",
    "     pl.col('unit_name')).alias('amount_with_unit')\n",
    ")"
   ]
  },
  {
   "cell_type": "code",
   "execution_count": 58,
   "metadata": {},
   "outputs": [
    {
     "ename": "ColumnNotFoundError",
     "evalue": "amount_with_unit\n\nResolved plan until failure:\n\n\t---> FAILED HERE RESOLVING 'select' <---\nDF [\"id\", \"fdc_id\", \"nutrient_id\", \"amount\"]; PROJECT */21 COLUMNS; SELECTION: None",
     "output_type": "error",
     "traceback": [
      "\u001b[0;31m---------------------------------------------------------------------------\u001b[0m",
      "\u001b[0;31mColumnNotFoundError\u001b[0m                       Traceback (most recent call last)",
      "Cell \u001b[0;32mIn[58], line 1\u001b[0m\n\u001b[0;32m----> 1\u001b[0m \u001b[43mdf\u001b[49m\u001b[38;5;241;43m.\u001b[39;49m\u001b[43mselect\u001b[49m\u001b[43m(\u001b[49m\u001b[43mpl\u001b[49m\u001b[38;5;241;43m.\u001b[39;49m\u001b[43mcol\u001b[49m\u001b[43m(\u001b[49m\u001b[38;5;124;43m'\u001b[39;49m\u001b[38;5;124;43mamount_with_unit\u001b[39;49m\u001b[38;5;124;43m'\u001b[39;49m\u001b[43m)\u001b[49m\u001b[43m)\u001b[49m\n",
      "File \u001b[0;32m~/Documents/code/ALDI/wiki-python-experts/venv/lib/python3.12/site-packages/polars/dataframe/frame.py:9010\u001b[0m, in \u001b[0;36mDataFrame.select\u001b[0;34m(self, *exprs, **named_exprs)\u001b[0m\n\u001b[1;32m   8910\u001b[0m \u001b[38;5;28;01mdef\u001b[39;00m \u001b[38;5;21mselect\u001b[39m(\n\u001b[1;32m   8911\u001b[0m     \u001b[38;5;28mself\u001b[39m, \u001b[38;5;241m*\u001b[39mexprs: IntoExpr \u001b[38;5;241m|\u001b[39m Iterable[IntoExpr], \u001b[38;5;241m*\u001b[39m\u001b[38;5;241m*\u001b[39mnamed_exprs: IntoExpr\n\u001b[1;32m   8912\u001b[0m ) \u001b[38;5;241m-\u001b[39m\u001b[38;5;241m>\u001b[39m DataFrame:\n\u001b[1;32m   8913\u001b[0m \u001b[38;5;250m    \u001b[39m\u001b[38;5;124;03m\"\"\"\u001b[39;00m\n\u001b[1;32m   8914\u001b[0m \u001b[38;5;124;03m    Select columns from this DataFrame.\u001b[39;00m\n\u001b[1;32m   8915\u001b[0m \n\u001b[0;32m   (...)\u001b[0m\n\u001b[1;32m   9008\u001b[0m \u001b[38;5;124;03m    └──────────────┘\u001b[39;00m\n\u001b[1;32m   9009\u001b[0m \u001b[38;5;124;03m    \"\"\"\u001b[39;00m\n\u001b[0;32m-> 9010\u001b[0m     \u001b[38;5;28;01mreturn\u001b[39;00m \u001b[38;5;28;43mself\u001b[39;49m\u001b[38;5;241;43m.\u001b[39;49m\u001b[43mlazy\u001b[49m\u001b[43m(\u001b[49m\u001b[43m)\u001b[49m\u001b[38;5;241;43m.\u001b[39;49m\u001b[43mselect\u001b[49m\u001b[43m(\u001b[49m\u001b[38;5;241;43m*\u001b[39;49m\u001b[43mexprs\u001b[49m\u001b[43m,\u001b[49m\u001b[43m \u001b[49m\u001b[38;5;241;43m*\u001b[39;49m\u001b[38;5;241;43m*\u001b[39;49m\u001b[43mnamed_exprs\u001b[49m\u001b[43m)\u001b[49m\u001b[38;5;241;43m.\u001b[39;49m\u001b[43mcollect\u001b[49m\u001b[43m(\u001b[49m\u001b[43m_eager\u001b[49m\u001b[38;5;241;43m=\u001b[39;49m\u001b[38;5;28;43;01mTrue\u001b[39;49;00m\u001b[43m)\u001b[49m\n",
      "File \u001b[0;32m~/Documents/code/ALDI/wiki-python-experts/venv/lib/python3.12/site-packages/polars/lazyframe/frame.py:2050\u001b[0m, in \u001b[0;36mLazyFrame.collect\u001b[0;34m(self, type_coercion, predicate_pushdown, projection_pushdown, simplify_expression, slice_pushdown, comm_subplan_elim, comm_subexpr_elim, cluster_with_columns, collapse_joins, no_optimization, streaming, engine, background, _eager, **_kwargs)\u001b[0m\n\u001b[1;32m   2048\u001b[0m \u001b[38;5;66;03m# Only for testing purposes\u001b[39;00m\n\u001b[1;32m   2049\u001b[0m callback \u001b[38;5;241m=\u001b[39m _kwargs\u001b[38;5;241m.\u001b[39mget(\u001b[38;5;124m\"\u001b[39m\u001b[38;5;124mpost_opt_callback\u001b[39m\u001b[38;5;124m\"\u001b[39m, callback)\n\u001b[0;32m-> 2050\u001b[0m \u001b[38;5;28;01mreturn\u001b[39;00m wrap_df(\u001b[43mldf\u001b[49m\u001b[38;5;241;43m.\u001b[39;49m\u001b[43mcollect\u001b[49m\u001b[43m(\u001b[49m\u001b[43mcallback\u001b[49m\u001b[43m)\u001b[49m)\n",
      "\u001b[0;31mColumnNotFoundError\u001b[0m: amount_with_unit\n\nResolved plan until failure:\n\n\t---> FAILED HERE RESOLVING 'select' <---\nDF [\"id\", \"fdc_id\", \"nutrient_id\", \"amount\"]; PROJECT */21 COLUMNS; SELECTION: None"
     ]
    },
    {
     "ename": "",
     "evalue": "",
     "output_type": "error",
     "traceback": [
      "\u001b[1;31mDer Kernel ist beim Ausführen von Code in der aktuellen Zelle oder einer vorherigen Zelle abgestürzt. \n",
      "\u001b[1;31mBitte überprüfen Sie den Code in der/den Zelle(n), um eine mögliche Fehlerursache zu identifizieren. \n",
      "\u001b[1;31mKlicken Sie <a href='https://aka.ms/vscodeJupyterKernelCrash'>hier</a>, um weitere Informationen zu erhalten. \n",
      "\u001b[1;31mWeitere Informationen finden Sie unter Jupyter <a href='command:jupyter.viewOutput'>Protokoll</a>."
     ]
    }
   ],
   "source": [
    "df.select(pl.col('amount_with_unit'))"
   ]
  }
 ],
 "metadata": {
  "kernelspec": {
   "display_name": "venv",
   "language": "python",
   "name": "python3"
  },
  "language_info": {
   "codemirror_mode": {
    "name": "ipython",
    "version": 3
   },
   "file_extension": ".py",
   "mimetype": "text/x-python",
   "name": "python",
   "nbconvert_exporter": "python",
   "pygments_lexer": "ipython3",
   "version": "3.12.6"
  }
 },
 "nbformat": 4,
 "nbformat_minor": 2
}
