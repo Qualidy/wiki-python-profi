{
 "cells": [
  {
   "cell_type": "code",
   "execution_count": 1,
   "metadata": {},
   "outputs": [
    {
     "name": "stdout",
     "output_type": "stream",
     "text": [
      "DataFrame 1:\n",
      "   id value1\n",
      "0   1      A\n",
      "1   2      B\n",
      "2   3      C\n",
      "3   4      D\n",
      "\n",
      "DataFrame 2:\n",
      "   id value2\n",
      "0   3      X\n",
      "1   4      Y\n",
      "2   5      Z\n",
      "3   6      W\n"
     ]
    }
   ],
   "source": [
    "import pandas as pd\n",
    "\n",
    "# Erstellen des ersten DataFrames\n",
    "df1 = pd.DataFrame({\n",
    "    'id': [1, 2, 3, 4],\n",
    "    'value1': ['A', 'B', 'C', 'D']\n",
    "})\n",
    "\n",
    "# Erstellen des zweiten DataFrames\n",
    "df2 = pd.DataFrame({\n",
    "    'id': [3, 4, 5, 6],\n",
    "    'value2': ['X', 'Y', 'Z', 'W']\n",
    "})\n",
    "\n",
    "# Anzeigen der DataFrames\n",
    "print(\"DataFrame 1:\")\n",
    "print(df1)\n",
    "print(\"\\nDataFrame 2:\")\n",
    "print(df2)"
   ]
  },
  {
   "cell_type": "code",
   "execution_count": 2,
   "metadata": {},
   "outputs": [
    {
     "data": {
      "text/html": [
       "<div>\n",
       "<style scoped>\n",
       "    .dataframe tbody tr th:only-of-type {\n",
       "        vertical-align: middle;\n",
       "    }\n",
       "\n",
       "    .dataframe tbody tr th {\n",
       "        vertical-align: top;\n",
       "    }\n",
       "\n",
       "    .dataframe thead th {\n",
       "        text-align: right;\n",
       "    }\n",
       "</style>\n",
       "<table border=\"1\" class=\"dataframe\">\n",
       "  <thead>\n",
       "    <tr style=\"text-align: right;\">\n",
       "      <th></th>\n",
       "      <th>id</th>\n",
       "      <th>value1</th>\n",
       "      <th>value2</th>\n",
       "    </tr>\n",
       "  </thead>\n",
       "  <tbody>\n",
       "    <tr>\n",
       "      <th>0</th>\n",
       "      <td>1</td>\n",
       "      <td>A</td>\n",
       "      <td>NaN</td>\n",
       "    </tr>\n",
       "    <tr>\n",
       "      <th>1</th>\n",
       "      <td>2</td>\n",
       "      <td>B</td>\n",
       "      <td>NaN</td>\n",
       "    </tr>\n",
       "    <tr>\n",
       "      <th>2</th>\n",
       "      <td>3</td>\n",
       "      <td>C</td>\n",
       "      <td>X</td>\n",
       "    </tr>\n",
       "    <tr>\n",
       "      <th>3</th>\n",
       "      <td>4</td>\n",
       "      <td>D</td>\n",
       "      <td>Y</td>\n",
       "    </tr>\n",
       "    <tr>\n",
       "      <th>4</th>\n",
       "      <td>5</td>\n",
       "      <td>NaN</td>\n",
       "      <td>Z</td>\n",
       "    </tr>\n",
       "    <tr>\n",
       "      <th>5</th>\n",
       "      <td>6</td>\n",
       "      <td>NaN</td>\n",
       "      <td>W</td>\n",
       "    </tr>\n",
       "  </tbody>\n",
       "</table>\n",
       "</div>"
      ],
      "text/plain": [
       "   id value1 value2\n",
       "0   1      A    NaN\n",
       "1   2      B    NaN\n",
       "2   3      C      X\n",
       "3   4      D      Y\n",
       "4   5    NaN      Z\n",
       "5   6    NaN      W"
      ]
     },
     "execution_count": 2,
     "metadata": {},
     "output_type": "execute_result"
    }
   ],
   "source": [
    "df3 = pd.merge(df1, df2, on=\"id\", how=\"outer\")\n",
    "df3\n",
    "\n"
   ]
  },
  {
   "cell_type": "code",
   "execution_count": 3,
   "metadata": {},
   "outputs": [
    {
     "name": "stdout",
     "output_type": "stream",
     "text": [
      "4397793552\n",
      "4509805664\n",
      "4537371632\n"
     ]
    }
   ],
   "source": [
    "print(id(df1))\n",
    "print(id(df2))\n",
    "print(id(df3))"
   ]
  },
  {
   "cell_type": "code",
   "execution_count": 4,
   "metadata": {},
   "outputs": [],
   "source": [
    "del df1\n",
    "del df2"
   ]
  },
  {
   "cell_type": "code",
   "execution_count": 5,
   "metadata": {},
   "outputs": [
    {
     "name": "stdout",
     "output_type": "stream",
     "text": [
      "4555390400\n"
     ]
    }
   ],
   "source": [
    "liste = [1,2,3,4]\n",
    "print(id(liste))"
   ]
  },
  {
   "cell_type": "code",
   "execution_count": 6,
   "metadata": {},
   "outputs": [
    {
     "data": {
      "text/plain": [
       "4555390400"
      ]
     },
     "execution_count": 6,
     "metadata": {},
     "output_type": "execute_result"
    }
   ],
   "source": [
    "liste2 = liste\n",
    "id(liste2)"
   ]
  },
  {
   "cell_type": "code",
   "execution_count": 7,
   "metadata": {},
   "outputs": [
    {
     "data": {
      "text/plain": [
       "[1, 100, 3, 4]"
      ]
     },
     "execution_count": 7,
     "metadata": {},
     "output_type": "execute_result"
    }
   ],
   "source": [
    "liste2[1] = 100\n",
    "liste"
   ]
  },
  {
   "cell_type": "code",
   "execution_count": 8,
   "metadata": {},
   "outputs": [
    {
     "name": "stdout",
     "output_type": "stream",
     "text": [
      "         1000670 function calls (1000660 primitive calls) in 0.130 seconds\n",
      "\n",
      "   Ordered by: standard name\n",
      "\n",
      "   ncalls  tottime  percall  cumtime  percall filename:lineno(function)\n",
      "  1000000    0.047    0.000    0.047    0.000 2395676292.py:3(add_i)\n",
      "        1    0.011    0.011    0.016    0.016 2395676292.py:6(lange_berechnung)\n",
      "        2    0.000    0.000    0.000    0.000 <frozen abc>:121(__subclasscheck__)\n",
      "        5    0.000    0.000    0.000    0.000 <frozen importlib._bootstrap>:1390(_handle_fromlist)\n",
      "        1    0.000    0.000    0.016    0.016 <string>:1(<module>)\n",
      "        1    0.000    0.000    0.006    0.006 _base.py:337(_invoke_callbacks)\n",
      "        1    0.000    0.000    0.006    0.006 _base.py:537(set_result)\n",
      "        1    0.000    0.000    0.099    0.099 asyncio.py:200(_handle_events)\n",
      "        1    0.000    0.000    0.000    0.000 asyncio.py:225(add_callback)\n",
      "        5    0.000    0.000    0.000    0.000 attrsettr.py:43(__getattr__)\n",
      "        5    0.000    0.000    0.000    0.000 attrsettr.py:66(_get_attr_opt)\n",
      "        1    0.000    0.000    0.000    0.000 base_events.py:1894(_add_callback)\n",
      "        3    0.000    0.000    0.218    0.073 base_events.py:1909(_run_once)\n",
      "        5    0.000    0.000    0.000    0.000 base_events.py:2004(get_debug)\n",
      "        3    0.000    0.000    0.000    0.000 base_events.py:539(_check_closed)\n",
      "        1    0.000    0.000    0.000    0.000 base_events.py:720(is_closed)\n",
      "        4    0.000    0.000    0.000    0.000 base_events.py:734(time)\n",
      "        2    0.000    0.000    0.000    0.000 base_events.py:785(call_soon)\n",
      "        3    0.000    0.000    0.000    0.000 base_events.py:814(_call_soon)\n",
      "        1    0.000    0.000    0.006    0.006 base_events.py:838(call_soon_threadsafe)\n",
      "        1    0.000    0.000    0.000    0.000 concurrent.py:182(future_set_result_unless_cancelled)\n",
      "        1    0.000    0.000    0.000    0.000 decorator.py:199(fix)\n",
      "        1    0.000    0.000    0.024    0.024 decorator.py:229(fun)\n",
      "       29    0.000    0.000    0.000    0.000 enum.py:1129(__new__)\n",
      "       66    0.000    0.000    0.000    0.000 enum.py:1544(_get_value)\n",
      "       15    0.000    0.000    0.000    0.000 enum.py:1551(__or__)\n",
      "        7    0.000    0.000    0.000    0.000 enum.py:1562(__and__)\n",
      "       29    0.000    0.000    0.000    0.000 enum.py:726(__call__)\n",
      "        3    0.000    0.000    0.000    0.000 events.py:36(__init__)\n",
      "      4/2    0.000    0.000    0.100    0.050 events.py:86(_run)\n",
      "        1    0.000    0.000    0.006    0.006 futures.py:398(_call_set_state)\n",
      "        1    0.000    0.000    0.024    0.024 history.py:55(only_when_enabled)\n",
      "        1    0.000    0.000    0.005    0.005 history.py:833(_writeout_input_cache)\n",
      "        1    0.000    0.000    0.000    0.000 history.py:839(_writeout_output_cache)\n",
      "        1    0.006    0.006    0.024    0.024 history.py:845(writeout_cache)\n",
      "        4    0.000    0.000    0.000    0.000 inspect.py:2792(name)\n",
      "       10    0.000    0.000    0.000    0.000 inspect.py:2804(kind)\n",
      "        1    0.000    0.000    0.000    0.000 inspect.py:2884(__init__)\n",
      "        1    0.000    0.000    0.000    0.000 inspect.py:2892(args)\n",
      "        1    0.000    0.000    0.000    0.000 inspect.py:2915(kwargs)\n",
      "        1    0.000    0.000    0.000    0.000 inspect.py:2945(apply_defaults)\n",
      "        4    0.000    0.000    0.000    0.000 inspect.py:3085(parameters)\n",
      "        1    0.000    0.000    0.000    0.000 inspect.py:3129(_bind)\n",
      "        1    0.000    0.000    0.000    0.000 inspect.py:3268(bind)\n",
      "        1    0.000    0.000    0.000    0.000 ioloop.py:742(_run_callback)\n",
      "        2    0.000    0.000    0.093    0.047 iostream.py:157(_handle_event)\n",
      "        2    0.000    0.000    0.000    0.000 iostream.py:213(_is_master_process)\n",
      "        2    0.000    0.000    0.000    0.000 iostream.py:216(_check_mp_mode)\n",
      "        2    0.000    0.000    0.000    0.000 iostream.py:255(closed)\n",
      "        2    0.000    0.000    0.069    0.034 iostream.py:276(<lambda>)\n",
      "        2    0.000    0.000    0.069    0.034 iostream.py:278(_really_send)\n",
      "        1    0.000    0.000    0.006    0.006 kernelbase.py:302(poll_control_queue)\n",
      "        1    0.000    0.000    0.000    0.000 locks.py:224(clear)\n",
      "        3    0.000    0.000    0.000    0.000 queue.py:209(_qsize)\n",
      "        3    0.000    0.000    0.000    0.000 queue.py:97(empty)\n",
      "        1    0.000    0.000    0.000    0.000 queues.py:173(qsize)\n",
      "        1    0.000    0.000    0.000    0.000 queues.py:177(empty)\n",
      "        1    0.000    0.000    0.000    0.000 queues.py:186(put)\n",
      "        1    0.000    0.000    0.000    0.000 queues.py:209(put_nowait)\n",
      "        1    0.000    0.000    0.000    0.000 queues.py:225(get)\n",
      "        1    0.000    0.000    0.000    0.000 queues.py:256(get_nowait)\n",
      "        1    0.000    0.000    0.000    0.000 queues.py:309(_get)\n",
      "        1    0.000    0.000    0.000    0.000 queues.py:312(_put)\n",
      "        1    0.000    0.000    0.000    0.000 queues.py:317(__put_internal)\n",
      "        2    0.000    0.000    0.000    0.000 queues.py:322(_consume_expired)\n",
      "        1    0.000    0.000    0.000    0.000 queues.py:59(_set_timeout)\n",
      "        1    0.004    0.004    0.006    0.006 selector_events.py:129(_read_from_self)\n",
      "        1    0.004    0.004    0.006    0.006 selector_events.py:141(_write_to_self)\n",
      "        3    0.000    0.000    0.000    0.000 selector_events.py:750(_process_events)\n",
      "        1    0.000    0.000    0.000    0.000 selectors.py:275(_key_from_fd)\n",
      "      2/1    0.004    0.002    0.006    0.006 selectors.py:558(select)\n",
      "       14    0.031    0.002    0.051    0.004 socket.py:626(send)\n",
      "        2    0.011    0.006    0.018    0.009 socket.py:703(send_multipart)\n",
      "        2    0.000    0.000    0.000    0.000 socket.py:774(recv_multipart)\n",
      "        3    0.000    0.000    0.000    0.000 threading.py:299(__enter__)\n",
      "        3    0.000    0.000    0.000    0.000 threading.py:302(__exit__)\n",
      "        1    0.000    0.000    0.000    0.000 threading.py:308(_release_save)\n",
      "        1    0.000    0.000    0.000    0.000 threading.py:311(_acquire_restore)\n",
      "        1    0.000    0.000    0.000    0.000 threading.py:314(_is_owned)\n",
      "        1    0.000    0.000    0.000    0.000 threading.py:394(notify)\n",
      "        1    0.000    0.000    0.000    0.000 threading.py:424(notify_all)\n",
      "        1    0.000    0.000    0.000    0.000 threading.py:627(clear)\n",
      "        1    0.000    0.000    0.000    0.000 traitlets.py:1512(_notify_trait)\n",
      "        1    0.000    0.000    0.000    0.000 traitlets.py:1523(notify_change)\n",
      "        1    0.000    0.000    0.000    0.000 traitlets.py:1527(_notify_observers)\n",
      "        2    0.000    0.000    0.000    0.000 traitlets.py:2304(validate)\n",
      "        2    0.000    0.000    0.000    0.000 traitlets.py:3474(validate)\n",
      "        2    0.000    0.000    0.000    0.000 traitlets.py:3486(validate_elements)\n",
      "        2    0.000    0.000    0.000    0.000 traitlets.py:3624(validate_elements)\n",
      "        2    0.000    0.000    0.000    0.000 traitlets.py:3631(set)\n",
      "        6    0.000    0.000    0.000    0.000 traitlets.py:629(get)\n",
      "        6    0.000    0.000    0.000    0.000 traitlets.py:676(__get__)\n",
      "        2    0.000    0.000    0.000    0.000 traitlets.py:689(set)\n",
      "        2    0.000    0.000    0.000    0.000 traitlets.py:708(__set__)\n",
      "        2    0.000    0.000    0.000    0.000 traitlets.py:718(_validate)\n",
      "        2    0.000    0.000    0.000    0.000 traitlets.py:727(_cross_validate)\n",
      "        2    0.000    0.000    0.000    0.000 typing.py:1221(__instancecheck__)\n",
      "        4    0.000    0.000    0.000    0.000 typing.py:1285(__hash__)\n",
      "        2    0.000    0.000    0.000    0.000 typing.py:1492(__subclasscheck__)\n",
      "       24    0.000    0.000    0.000    0.000 typing.py:2182(cast)\n",
      "        6    0.000    0.000    0.000    0.000 typing.py:392(inner)\n",
      "        1    0.000    0.000    0.000    0.000 unix_events.py:81(_process_self_data)\n",
      "        5    0.000    0.000    0.000    0.000 zmqstream.py:538(receiving)\n",
      "        3    0.000    0.000    0.000    0.000 zmqstream.py:542(sending)\n",
      "        2    0.000    0.000    0.093    0.047 zmqstream.py:556(_run_callback)\n",
      "        2    0.000    0.000    0.093    0.047 zmqstream.py:583(_handle_events)\n",
      "        2    0.000    0.000    0.093    0.047 zmqstream.py:624(_handle_recv)\n",
      "        3    0.000    0.000    0.000    0.000 zmqstream.py:663(_rebuild_io_state)\n",
      "        3    0.000    0.000    0.000    0.000 zmqstream.py:686(_update_handler)\n",
      "        1    0.000    0.000    0.000    0.000 zmqstream.py:694(<lambda>)\n",
      "        2    0.000    0.000    0.000    0.000 {built-in method _abc._abc_subclasscheck}\n",
      "        1    0.000    0.000    0.000    0.000 {built-in method _asyncio.get_running_loop}\n",
      "        2    0.000    0.000    0.000    0.000 {built-in method _contextvars.copy_context}\n",
      "        1    0.000    0.000    0.000    0.000 {built-in method _thread.allocate_lock}\n",
      "        1    0.000    0.000    0.016    0.016 {built-in method builtins.exec}\n",
      "        5    0.000    0.000    0.000    0.000 {built-in method builtins.getattr}\n",
      "       10    0.000    0.000    0.000    0.000 {built-in method builtins.hasattr}\n",
      "        4    0.000    0.000    0.000    0.000 {built-in method builtins.hash}\n",
      "  143/139    0.000    0.000    0.000    0.000 {built-in method builtins.isinstance}\n",
      "        2    0.000    0.000    0.000    0.000 {built-in method builtins.issubclass}\n",
      "        2    0.000    0.000    0.000    0.000 {built-in method builtins.iter}\n",
      "       16    0.000    0.000    0.000    0.000 {built-in method builtins.len}\n",
      "        4    0.000    0.000    0.000    0.000 {built-in method builtins.max}\n",
      "        1    0.000    0.000    0.000    0.000 {built-in method builtins.min}\n",
      "        6    0.000    0.000    0.000    0.000 {built-in method builtins.next}\n",
      "        2    0.000    0.000    0.000    0.000 {built-in method posix.getpid}\n",
      "        4    0.000    0.000    0.000    0.000 {built-in method time.monotonic}\n",
      "        1    0.000    0.000    0.000    0.000 {method '__enter__' of '_thread.RLock' objects}\n",
      "        2    0.000    0.000    0.000    0.000 {method '__enter__' of '_thread.lock' objects}\n",
      "        1    0.000    0.000    0.000    0.000 {method '__exit__' of '_thread.RLock' objects}\n",
      "        7    0.000    0.000    0.000    0.000 {method '__exit__' of '_thread.lock' objects}\n",
      "        2    0.003    0.002    0.005    0.003 {method '__exit__' of 'sqlite3.Connection' objects}\n",
      "        1    0.000    0.000    0.000    0.000 {method '_is_owned' of '_thread.RLock' objects}\n",
      "        3    0.000    0.000    0.000    0.000 {method 'acquire' of '_thread.lock' objects}\n",
      "        7    0.000    0.000    0.000    0.000 {method 'append' of 'collections.deque' objects}\n",
      "        5    0.000    0.000    0.000    0.000 {method 'append' of 'list' objects}\n",
      "        2    0.000    0.000    0.000    0.000 {method 'cancelled' of '_asyncio.Future' objects}\n",
      "      2/1    0.004    0.002    0.000    0.000 {method 'control' of 'select.kqueue' objects}\n",
      "        1    0.000    0.000    0.000    0.000 {method 'disable' of '_lsprof.Profiler' objects}\n",
      "        1    0.000    0.000    0.000    0.000 {method 'done' of '_asyncio.Future' objects}\n",
      "        1    0.000    0.000    0.000    0.000 {method 'execute' of 'sqlite3.Connection' objects}\n",
      "        2    0.000    0.000    0.000    0.000 {method 'extend' of 'list' objects}\n",
      "        4    0.000    0.000    0.000    0.000 {method 'get' of 'dict' objects}\n",
      "        3    0.000    0.000    0.000    0.000 {method 'items' of 'mappingproxy' objects}\n",
      "        8    0.000    0.000    0.000    0.000 {method 'popleft' of 'collections.deque' objects}\n",
      "        2    0.004    0.002    0.006    0.003 {method 'recv' of '_socket.socket' objects}\n",
      "        1    0.000    0.000    0.000    0.000 {method 'release' of '_thread.lock' objects}\n",
      "      4/2    0.000    0.000    0.100    0.050 {method 'run' of '_contextvars.Context' objects}\n",
      "        1    0.000    0.000    0.000    0.000 {method 'send' of '_socket.socket' objects}\n",
      "        2    0.000    0.000    0.000    0.000 {method 'set_result' of '_asyncio.Future' objects}\n",
      "        5    0.000    0.000    0.000    0.000 {method 'upper' of 'str' objects}\n",
      "        1    0.000    0.000    0.000    0.000 {method 'values' of 'mappingproxy' objects}\n",
      "\n",
      "\n"
     ]
    }
   ],
   "source": [
    "import cProfile\n",
    "\n",
    "def add_i(summe, i):\n",
    "    return summe + i\n",
    "\n",
    "def lange_berechnung():\n",
    "    # Simulierte lange Berechnung\n",
    "    summe = 0\n",
    "    for i in range(1000000):\n",
    "        summe = add_i(summe, i)\n",
    "    return summe\n",
    "\n",
    "\n",
    "cProfile.run('lange_berechnung()')"
   ]
  },
  {
   "cell_type": "code",
   "execution_count": 11,
   "metadata": {},
   "outputs": [
    {
     "name": "stdout",
     "output_type": "stream",
     "text": [
      "         3 function calls in 0.000 seconds\n",
      "\n",
      "   Ordered by: standard name\n",
      "\n",
      "   ncalls  tottime  percall  cumtime  percall filename:lineno(function)\n",
      "        1    0.000    0.000    0.000    0.000 <string>:1(<module>)\n",
      "        1    0.000    0.000    0.000    0.000 {built-in method builtins.exec}\n",
      "        1    0.000    0.000    0.000    0.000 {method 'disable' of '_lsprof.Profiler' objects}\n",
      "\n",
      "\n"
     ]
    }
   ],
   "source": [
    "# import list_vs_dictionary\n",
    "\n",
    "cProfile.run(\"import list_vs_dictionary\")"
   ]
  },
  {
   "cell_type": "code",
   "execution_count": 12,
   "metadata": {},
   "outputs": [
    {
     "name": "stdout",
     "output_type": "stream",
     "text": [
      "14.5 μs ± 104 ns per loop (mean ± std. dev. of 7 runs, 100,000 loops each)\n"
     ]
    }
   ],
   "source": [
    "%%timeit\n",
    "\n",
    "summe = []\n",
    "for i in range(1000):\n",
    "    summe.append(i)\n",
    " "
   ]
  },
  {
   "cell_type": "code",
   "execution_count": 13,
   "metadata": {},
   "outputs": [
    {
     "name": "stdout",
     "output_type": "stream",
     "text": [
      " "
     ]
    },
    {
     "name": "stdout",
     "output_type": "stream",
     "text": [
      "         1003 function calls in 0.000 seconds\n",
      "\n",
      "   Ordered by: internal time\n",
      "\n",
      "   ncalls  tottime  percall  cumtime  percall filename:lineno(function)\n",
      "        1    0.000    0.000    0.000    0.000 <string>:1(<module>)\n",
      "     1000    0.000    0.000    0.000    0.000 {method 'append' of 'list' objects}\n",
      "        1    0.000    0.000    0.000    0.000 {method 'disable' of '_lsprof.Profiler' objects}\n",
      "        1    0.000    0.000    0.000    0.000 {built-in method builtins.exec}"
     ]
    }
   ],
   "source": [
    "%%prun  \n",
    "\n",
    " \n",
    "summe = []\n",
    "for i in range(1000):\n",
    "    summe.append(i)"
   ]
  },
  {
   "cell_type": "code",
   "execution_count": 28,
   "metadata": {},
   "outputs": [
    {
     "name": "stdout",
     "output_type": "stream",
     "text": [
      "1.63 ms ± 17 μs per loop (mean ± std. dev. of 7 runs, 1,000 loops each)\n"
     ]
    }
   ],
   "source": [
    "%%timeit\n",
    "\n",
    "def sum_even_numbers(numbers):\n",
    "    total = 0\n",
    "    for number in numbers:\n",
    "        if number % 2 == 0:\n",
    "            total += number\n",
    "    return total\n",
    "\n",
    "\n",
    "# Beispielaufruf\n",
    "zahlen = list(range(50000))\n",
    "sum_even_numbers(zahlen) # Ausgabe: 30"
   ]
  },
  {
   "cell_type": "code",
   "execution_count": 29,
   "metadata": {},
   "outputs": [
    {
     "name": "stdout",
     "output_type": "stream",
     "text": [
      "1.74 ms ± 38 μs per loop (mean ± std. dev. of 7 runs, 1,000 loops each)\n"
     ]
    }
   ],
   "source": [
    "%%timeit\n",
    "\n",
    "def sum_even_numbers(numbers):\n",
    "    return sum(number for number in numbers if number%2==0)\n",
    "\n",
    "\n",
    "# Beispielaufruf\n",
    "zahlen = list(range(50000))\n",
    "sum_even_numbers(zahlen) # Ausgabe: 30"
   ]
  },
  {
   "cell_type": "code",
   "execution_count": 31,
   "metadata": {},
   "outputs": [],
   "source": [
    "import random\n",
    "\n",
    "werte = [random.randint(0, 10) for _ in range(10000)]"
   ]
  },
  {
   "cell_type": "code",
   "execution_count": 32,
   "metadata": {},
   "outputs": [
    {
     "name": "stdout",
     "output_type": "stream",
     "text": [
      "375 μs ± 10.2 μs per loop (mean ± std. dev. of 7 runs, 1,000 loops each)\n"
     ]
    }
   ],
   "source": [
    "%%timeit\n",
    "\n",
    "def unique_values(values):\n",
    "    unique = []\n",
    "    for value in values:\n",
    "        if value not in unique:\n",
    "            unique.append(value)\n",
    "    return unique\n",
    "\n",
    "\n",
    "# Beispielaufruf\n",
    "unique_values(werte)  "
   ]
  },
  {
   "cell_type": "code",
   "execution_count": 34,
   "metadata": {},
   "outputs": [
    {
     "name": "stdout",
     "output_type": "stream",
     "text": [
      "62.1 μs ± 83 ns per loop (mean ± std. dev. of 7 runs, 10,000 loops each)\n"
     ]
    }
   ],
   "source": [
    "%%timeit\n",
    "\n",
    "def unique_values(values):\n",
    "    return list(set(values))\n",
    "\n",
    "\n",
    "unique_values(werte)"
   ]
  },
  {
   "cell_type": "code",
   "execution_count": 39,
   "metadata": {},
   "outputs": [],
   "source": [
    "import pandas as pd\n",
    "# Beispiel-DataFrame erstellen\n",
    "df = pd.DataFrame({'Zahlen': list(range(100000))})"
   ]
  },
  {
   "cell_type": "code",
   "execution_count": 40,
   "metadata": {},
   "outputs": [
    {
     "name": "stdout",
     "output_type": "stream",
     "text": [
      "173 ms ± 291 μs per loop (mean ± std. dev. of 7 runs, 10 loops each)\n"
     ]
    }
   ],
   "source": [
    "%%timeit\n",
    "\n",
    "# Schleife zur Berechnung der Quadratwerte\n",
    "squares = []\n",
    "for i in range(len(df)):\n",
    "    squares.append(df['Zahlen'][i] ** 2)\n",
    "\n",
    "df['Quadrate'] = squares\n",
    "df"
   ]
  },
  {
   "cell_type": "code",
   "execution_count": 41,
   "metadata": {},
   "outputs": [
    {
     "name": "stdout",
     "output_type": "stream",
     "text": [
      "86.6 μs ± 1.5 μs per loop (mean ± std. dev. of 7 runs, 10,000 loops each)\n"
     ]
    }
   ],
   "source": [
    "%%timeit\n",
    "\n",
    "df['Quadrate'] = df['Zahlen'] ** 2"
   ]
  },
  {
   "cell_type": "code",
   "execution_count": 42,
   "metadata": {},
   "outputs": [],
   "source": [
    "# Beispiel-DataFrame erstellen\n",
    "df = pd.DataFrame({'Alter': [random.randint(0,100) for _ in range(1000)]})"
   ]
  },
  {
   "cell_type": "code",
   "execution_count": 43,
   "metadata": {},
   "outputs": [
    {
     "name": "stdout",
     "output_type": "stream",
     "text": [
      "1.85 ms ± 8.15 μs per loop (mean ± std. dev. of 7 runs, 1,000 loops each)\n"
     ]
    }
   ],
   "source": [
    "%%timeit\n",
    "\n",
    "# Schleifenbasierte Filterung\n",
    "filtered = df[df.apply(lambda row: row['Alter'] > 30, axis=1)]\n",
    "filtered"
   ]
  },
  {
   "cell_type": "code",
   "execution_count": 48,
   "metadata": {},
   "outputs": [
    {
     "name": "stdout",
     "output_type": "stream",
     "text": [
      "50.3 μs ± 368 ns per loop (mean ± std. dev. of 7 runs, 10,000 loops each)\n"
     ]
    }
   ],
   "source": [
    "%%timeit\n",
    "\n",
    "filtered = df[df[\"Alter\"] > 30]\n",
    "filtered"
   ]
  },
  {
   "cell_type": "code",
   "execution_count": 49,
   "metadata": {},
   "outputs": [
    {
     "name": "stdout",
     "output_type": "stream",
     "text": [
      "213 μs ± 3.05 μs per loop (mean ± std. dev. of 7 runs, 1,000 loops each)\n"
     ]
    }
   ],
   "source": [
    "%%timeit\n",
    "\n",
    "filtered = df.query(\"Alter > 30\")\n",
    "filtered"
   ]
  }
 ],
 "metadata": {
  "kernelspec": {
   "display_name": "venv",
   "language": "python",
   "name": "python3"
  },
  "language_info": {
   "codemirror_mode": {
    "name": "ipython",
    "version": 3
   },
   "file_extension": ".py",
   "mimetype": "text/x-python",
   "name": "python",
   "nbconvert_exporter": "python",
   "pygments_lexer": "ipython3",
   "version": "3.12.6"
  }
 },
 "nbformat": 4,
 "nbformat_minor": 2
}
