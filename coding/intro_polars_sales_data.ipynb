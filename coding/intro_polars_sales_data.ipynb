{
 "cells": [
  {
   "cell_type": "code",
   "execution_count": 1,
   "metadata": {},
   "outputs": [],
   "source": [
    "import pandas as pd"
   ]
  },
  {
   "cell_type": "code",
   "execution_count": 2,
   "metadata": {},
   "outputs": [
    {
     "data": {
      "text/html": [
       "<div>\n",
       "<style scoped>\n",
       "    .dataframe tbody tr th:only-of-type {\n",
       "        vertical-align: middle;\n",
       "    }\n",
       "\n",
       "    .dataframe tbody tr th {\n",
       "        vertical-align: top;\n",
       "    }\n",
       "\n",
       "    .dataframe thead th {\n",
       "        text-align: right;\n",
       "    }\n",
       "</style>\n",
       "<table border=\"1\" class=\"dataframe\">\n",
       "  <thead>\n",
       "    <tr style=\"text-align: right;\">\n",
       "      <th></th>\n",
       "      <th>DATUM</th>\n",
       "      <th>FILIALE</th>\n",
       "      <th>PRODUKT</th>\n",
       "      <th>SALES</th>\n",
       "    </tr>\n",
       "  </thead>\n",
       "  <tbody>\n",
       "    <tr>\n",
       "      <th>0</th>\n",
       "      <td>2023-01-02</td>\n",
       "      <td>B307</td>\n",
       "      <td>207775</td>\n",
       "      <td>10</td>\n",
       "    </tr>\n",
       "    <tr>\n",
       "      <th>1</th>\n",
       "      <td>2023-01-02</td>\n",
       "      <td>B558</td>\n",
       "      <td>207775</td>\n",
       "      <td>22</td>\n",
       "    </tr>\n",
       "    <tr>\n",
       "      <th>2</th>\n",
       "      <td>2023-01-02</td>\n",
       "      <td>BP10</td>\n",
       "      <td>207775</td>\n",
       "      <td>14</td>\n",
       "    </tr>\n",
       "    <tr>\n",
       "      <th>3</th>\n",
       "      <td>2023-01-02</td>\n",
       "      <td>BQ02</td>\n",
       "      <td>207775</td>\n",
       "      <td>14</td>\n",
       "    </tr>\n",
       "    <tr>\n",
       "      <th>4</th>\n",
       "      <td>2023-01-02</td>\n",
       "      <td>B657</td>\n",
       "      <td>207775</td>\n",
       "      <td>5</td>\n",
       "    </tr>\n",
       "  </tbody>\n",
       "</table>\n",
       "</div>"
      ],
      "text/plain": [
       "       DATUM FILIALE  PRODUKT  SALES\n",
       "0 2023-01-02    B307   207775     10\n",
       "1 2023-01-02    B558   207775     22\n",
       "2 2023-01-02    BP10   207775     14\n",
       "3 2023-01-02    BQ02   207775     14\n",
       "4 2023-01-02    B657   207775      5"
      ]
     },
     "execution_count": 2,
     "metadata": {},
     "output_type": "execute_result"
    }
   ],
   "source": [
    "pandas_df = pd.read_excel(\"df_qualidy_sales_product_1.xlsx\")\n",
    "pandas_df.head()"
   ]
  },
  {
   "cell_type": "code",
   "execution_count": null,
   "metadata": {},
   "outputs": [],
   "source": [
    "import polars as pl"
   ]
  },
  {
   "cell_type": "code",
   "execution_count": 6,
   "metadata": {},
   "outputs": [
    {
     "data": {
      "text/html": [
       "<div><style>\n",
       ".dataframe > thead > tr,\n",
       ".dataframe > tbody > tr {\n",
       "  text-align: right;\n",
       "  white-space: pre-wrap;\n",
       "}\n",
       "</style>\n",
       "<small>shape: (563_157, 4)</small><table border=\"1\" class=\"dataframe\"><thead><tr><th>DATUM</th><th>FILIALE</th><th>PRODUKT</th><th>SALES</th></tr><tr><td>date</td><td>str</td><td>str</td><td>i64</td></tr></thead><tbody><tr><td>2023-01-02</td><td>&quot;B307&quot;</td><td>&quot;207775&quot;</td><td>10</td></tr><tr><td>2023-01-02</td><td>&quot;B558&quot;</td><td>&quot;207775&quot;</td><td>22</td></tr><tr><td>2023-01-02</td><td>&quot;BP10&quot;</td><td>&quot;207775&quot;</td><td>14</td></tr><tr><td>2023-01-02</td><td>&quot;BQ02&quot;</td><td>&quot;207775&quot;</td><td>14</td></tr><tr><td>2023-01-02</td><td>&quot;B657&quot;</td><td>&quot;207775&quot;</td><td>5</td></tr><tr><td>&hellip;</td><td>&hellip;</td><td>&hellip;</td><td>&hellip;</td></tr><tr><td>2023-12-30</td><td>&quot;B366&quot;</td><td>&quot;207775&quot;</td><td>5</td></tr><tr><td>2023-12-30</td><td>&quot;BT48&quot;</td><td>&quot;207775&quot;</td><td>10</td></tr><tr><td>2023-12-30</td><td>&quot;B041&quot;</td><td>&quot;207775&quot;</td><td>28</td></tr><tr><td>2023-12-30</td><td>&quot;BM18&quot;</td><td>&quot;207775&quot;</td><td>8</td></tr><tr><td>2023-12-30</td><td>&quot;BN56&quot;</td><td>&quot;207775&quot;</td><td>16</td></tr></tbody></table></div>"
      ],
      "text/plain": [
       "shape: (563_157, 4)\n",
       "┌────────────┬─────────┬─────────┬───────┐\n",
       "│ DATUM      ┆ FILIALE ┆ PRODUKT ┆ SALES │\n",
       "│ ---        ┆ ---     ┆ ---     ┆ ---   │\n",
       "│ date       ┆ str     ┆ str     ┆ i64   │\n",
       "╞════════════╪═════════╪═════════╪═══════╡\n",
       "│ 2023-01-02 ┆ B307    ┆ 207775  ┆ 10    │\n",
       "│ 2023-01-02 ┆ B558    ┆ 207775  ┆ 22    │\n",
       "│ 2023-01-02 ┆ BP10    ┆ 207775  ┆ 14    │\n",
       "│ 2023-01-02 ┆ BQ02    ┆ 207775  ┆ 14    │\n",
       "│ 2023-01-02 ┆ B657    ┆ 207775  ┆ 5     │\n",
       "│ …          ┆ …       ┆ …       ┆ …     │\n",
       "│ 2023-12-30 ┆ B366    ┆ 207775  ┆ 5     │\n",
       "│ 2023-12-30 ┆ BT48    ┆ 207775  ┆ 10    │\n",
       "│ 2023-12-30 ┆ B041    ┆ 207775  ┆ 28    │\n",
       "│ 2023-12-30 ┆ BM18    ┆ 207775  ┆ 8     │\n",
       "│ 2023-12-30 ┆ BN56    ┆ 207775  ┆ 16    │\n",
       "└────────────┴─────────┴─────────┴───────┘"
      ]
     },
     "execution_count": 6,
     "metadata": {},
     "output_type": "execute_result"
    }
   ],
   "source": [
    "polars_df = pl.read_excel(\"df_qualidy_sales_product_1.xlsx\")\n",
    "polars_df"
   ]
  },
  {
   "cell_type": "code",
   "execution_count": 9,
   "metadata": {},
   "outputs": [
    {
     "data": {
      "text/html": [
       "<div><style>\n",
       ".dataframe > thead > tr,\n",
       ".dataframe > tbody > tr {\n",
       "  text-align: right;\n",
       "  white-space: pre-wrap;\n",
       "}\n",
       "</style>\n",
       "<small>shape: (563_157, 1)</small><table border=\"1\" class=\"dataframe\"><thead><tr><th>FILIALE</th></tr><tr><td>str</td></tr></thead><tbody><tr><td>&quot;B307&quot;</td></tr><tr><td>&quot;B558&quot;</td></tr><tr><td>&quot;BP10&quot;</td></tr><tr><td>&quot;BQ02&quot;</td></tr><tr><td>&quot;B657&quot;</td></tr><tr><td>&hellip;</td></tr><tr><td>&quot;B366&quot;</td></tr><tr><td>&quot;BT48&quot;</td></tr><tr><td>&quot;B041&quot;</td></tr><tr><td>&quot;BM18&quot;</td></tr><tr><td>&quot;BN56&quot;</td></tr></tbody></table></div>"
      ],
      "text/plain": [
       "shape: (563_157, 1)\n",
       "┌─────────┐\n",
       "│ FILIALE │\n",
       "│ ---     │\n",
       "│ str     │\n",
       "╞═════════╡\n",
       "│ B307    │\n",
       "│ B558    │\n",
       "│ BP10    │\n",
       "│ BQ02    │\n",
       "│ B657    │\n",
       "│ …       │\n",
       "│ B366    │\n",
       "│ BT48    │\n",
       "│ B041    │\n",
       "│ BM18    │\n",
       "│ BN56    │\n",
       "└─────────┘"
      ]
     },
     "execution_count": 9,
     "metadata": {},
     "output_type": "execute_result"
    }
   ],
   "source": [
    "polars_df.select(\n",
    "    pl.col(\"FILIALE\")\n",
    ")"
   ]
  },
  {
   "cell_type": "code",
   "execution_count": 12,
   "metadata": {},
   "outputs": [],
   "source": [
    "pandas_df.to_csv(\"sales_data.csv\")"
   ]
  },
  {
   "cell_type": "code",
   "execution_count": 13,
   "metadata": {},
   "outputs": [
    {
     "data": {
      "text/html": [
       "<h4>NAIVE QUERY PLAN</h4><p>run <b>LazyFrame.show_graph()</b> to see the optimized version</p><?xml version=\"1.0\" encoding=\"UTF-8\" standalone=\"no\"?>\n",
       "<!DOCTYPE svg PUBLIC \"-//W3C//DTD SVG 1.1//EN\"\n",
       " \"http://www.w3.org/Graphics/SVG/1.1/DTD/svg11.dtd\">\n",
       "<!-- Generated by graphviz version 12.1.1 (20240910.0053)\n",
       " -->\n",
       "<!-- Title: polars_query Pages: 1 -->\n",
       "<svg width=\"175pt\" height=\"121pt\"\n",
       " viewBox=\"0.00 0.00 174.75 121.00\" xmlns=\"http://www.w3.org/2000/svg\" xmlns:xlink=\"http://www.w3.org/1999/xlink\">\n",
       "<g id=\"graph0\" class=\"graph\" transform=\"scale(1 1) rotate(0) translate(4 117)\">\n",
       "<title>polars_query</title>\n",
       "<polygon fill=\"white\" stroke=\"none\" points=\"-4,4 -4,-117 170.75,-117 170.75,4 -4,4\"/>\n",
       "<!-- p1 -->\n",
       "<g id=\"node1\" class=\"node\">\n",
       "<title>p1</title>\n",
       "<polygon fill=\"none\" stroke=\"black\" points=\"110.38,-113 56.38,-113 56.38,-77 110.38,-77 110.38,-113\"/>\n",
       "<text text-anchor=\"middle\" x=\"83.38\" y=\"-89.95\" font-family=\"Times,serif\" font-size=\"14.00\">π 1/1</text>\n",
       "</g>\n",
       "<!-- p2 -->\n",
       "<g id=\"node2\" class=\"node\">\n",
       "<title>p2</title>\n",
       "<polygon fill=\"none\" stroke=\"black\" points=\"166.75,-41 0,-41 0,0 166.75,0 166.75,-41\"/>\n",
       "<text text-anchor=\"middle\" x=\"83.38\" y=\"-23.7\" font-family=\"Times,serif\" font-size=\"14.00\">Csv SCAN [sales_data.csv]</text>\n",
       "<text text-anchor=\"middle\" x=\"83.38\" y=\"-7.2\" font-family=\"Times,serif\" font-size=\"14.00\">π */5;</text>\n",
       "</g>\n",
       "<!-- p1&#45;&#45;p2 -->\n",
       "<g id=\"edge1\" class=\"edge\">\n",
       "<title>p1&#45;&#45;p2</title>\n",
       "<path fill=\"none\" stroke=\"black\" d=\"M83.38,-76.82C83.38,-66.18 83.38,-52.49 83.38,-41.38\"/>\n",
       "</g>\n",
       "</g>\n",
       "</svg>\n"
      ],
      "text/plain": [
       "<LazyFrame at 0x16863A550>"
      ]
     },
     "execution_count": 13,
     "metadata": {},
     "output_type": "execute_result"
    }
   ],
   "source": [
    "q = pl.scan_csv(\"sales_data.csv\")\n",
    "q.select(\n",
    "    pl.col(\"FILIALE\")\n",
    ")"
   ]
  },
  {
   "cell_type": "code",
   "execution_count": 14,
   "metadata": {},
   "outputs": [
    {
     "data": {
      "text/html": [
       "<div><style>\n",
       ".dataframe > thead > tr,\n",
       ".dataframe > tbody > tr {\n",
       "  text-align: right;\n",
       "  white-space: pre-wrap;\n",
       "}\n",
       "</style>\n",
       "<small>shape: (563_157, 5)</small><table border=\"1\" class=\"dataframe\"><thead><tr><th></th><th>DATUM</th><th>FILIALE</th><th>PRODUKT</th><th>SALES</th></tr><tr><td>i64</td><td>str</td><td>str</td><td>i64</td><td>i64</td></tr></thead><tbody><tr><td>0</td><td>&quot;2023-01-02&quot;</td><td>&quot;B307&quot;</td><td>207775</td><td>10</td></tr><tr><td>1</td><td>&quot;2023-01-02&quot;</td><td>&quot;B558&quot;</td><td>207775</td><td>22</td></tr><tr><td>2</td><td>&quot;2023-01-02&quot;</td><td>&quot;BP10&quot;</td><td>207775</td><td>14</td></tr><tr><td>3</td><td>&quot;2023-01-02&quot;</td><td>&quot;BQ02&quot;</td><td>207775</td><td>14</td></tr><tr><td>4</td><td>&quot;2023-01-02&quot;</td><td>&quot;B657&quot;</td><td>207775</td><td>5</td></tr><tr><td>&hellip;</td><td>&hellip;</td><td>&hellip;</td><td>&hellip;</td><td>&hellip;</td></tr><tr><td>563152</td><td>&quot;2023-12-30&quot;</td><td>&quot;B366&quot;</td><td>207775</td><td>5</td></tr><tr><td>563153</td><td>&quot;2023-12-30&quot;</td><td>&quot;BT48&quot;</td><td>207775</td><td>10</td></tr><tr><td>563154</td><td>&quot;2023-12-30&quot;</td><td>&quot;B041&quot;</td><td>207775</td><td>28</td></tr><tr><td>563155</td><td>&quot;2023-12-30&quot;</td><td>&quot;BM18&quot;</td><td>207775</td><td>8</td></tr><tr><td>563156</td><td>&quot;2023-12-30&quot;</td><td>&quot;BN56&quot;</td><td>207775</td><td>16</td></tr></tbody></table></div>"
      ],
      "text/plain": [
       "shape: (563_157, 5)\n",
       "┌────────┬────────────┬─────────┬─────────┬───────┐\n",
       "│        ┆ DATUM      ┆ FILIALE ┆ PRODUKT ┆ SALES │\n",
       "│ ---    ┆ ---        ┆ ---     ┆ ---     ┆ ---   │\n",
       "│ i64    ┆ str        ┆ str     ┆ i64     ┆ i64   │\n",
       "╞════════╪════════════╪═════════╪═════════╪═══════╡\n",
       "│ 0      ┆ 2023-01-02 ┆ B307    ┆ 207775  ┆ 10    │\n",
       "│ 1      ┆ 2023-01-02 ┆ B558    ┆ 207775  ┆ 22    │\n",
       "│ 2      ┆ 2023-01-02 ┆ BP10    ┆ 207775  ┆ 14    │\n",
       "│ 3      ┆ 2023-01-02 ┆ BQ02    ┆ 207775  ┆ 14    │\n",
       "│ 4      ┆ 2023-01-02 ┆ B657    ┆ 207775  ┆ 5     │\n",
       "│ …      ┆ …          ┆ …       ┆ …       ┆ …     │\n",
       "│ 563152 ┆ 2023-12-30 ┆ B366    ┆ 207775  ┆ 5     │\n",
       "│ 563153 ┆ 2023-12-30 ┆ BT48    ┆ 207775  ┆ 10    │\n",
       "│ 563154 ┆ 2023-12-30 ┆ B041    ┆ 207775  ┆ 28    │\n",
       "│ 563155 ┆ 2023-12-30 ┆ BM18    ┆ 207775  ┆ 8     │\n",
       "│ 563156 ┆ 2023-12-30 ┆ BN56    ┆ 207775  ┆ 16    │\n",
       "└────────┴────────────┴─────────┴─────────┴───────┘"
      ]
     },
     "execution_count": 14,
     "metadata": {},
     "output_type": "execute_result"
    }
   ],
   "source": [
    "q.collect()"
   ]
  },
  {
   "cell_type": "code",
   "execution_count": 15,
   "metadata": {},
   "outputs": [
    {
     "data": {
      "text/html": [
       "<div><style>\n",
       ".dataframe > thead > tr,\n",
       ".dataframe > tbody > tr {\n",
       "  text-align: right;\n",
       "  white-space: pre-wrap;\n",
       "}\n",
       "</style>\n",
       "<small>shape: (292, 4)</small><table border=\"1\" class=\"dataframe\"><thead><tr><th>DATUM</th><th>FILIALE</th><th>PRODUKT</th><th>SALES</th></tr><tr><td>date</td><td>str</td><td>str</td><td>i64</td></tr></thead><tbody><tr><td>2023-01-02</td><td>&quot;B307&quot;</td><td>&quot;207775&quot;</td><td>10</td></tr><tr><td>2023-01-03</td><td>&quot;B307&quot;</td><td>&quot;207775&quot;</td><td>2</td></tr><tr><td>2023-01-04</td><td>&quot;B307&quot;</td><td>&quot;207775&quot;</td><td>7</td></tr><tr><td>2023-01-05</td><td>&quot;B307&quot;</td><td>&quot;207775&quot;</td><td>14</td></tr><tr><td>2023-01-06</td><td>&quot;B307&quot;</td><td>&quot;207775&quot;</td><td>12</td></tr><tr><td>&hellip;</td><td>&hellip;</td><td>&hellip;</td><td>&hellip;</td></tr><tr><td>2023-12-23</td><td>&quot;B307&quot;</td><td>&quot;207775&quot;</td><td>16</td></tr><tr><td>2023-12-27</td><td>&quot;B307&quot;</td><td>&quot;207775&quot;</td><td>5</td></tr><tr><td>2023-12-28</td><td>&quot;B307&quot;</td><td>&quot;207775&quot;</td><td>3</td></tr><tr><td>2023-12-29</td><td>&quot;B307&quot;</td><td>&quot;207775&quot;</td><td>5</td></tr><tr><td>2023-12-30</td><td>&quot;B307&quot;</td><td>&quot;207775&quot;</td><td>8</td></tr></tbody></table></div>"
      ],
      "text/plain": [
       "shape: (292, 4)\n",
       "┌────────────┬─────────┬─────────┬───────┐\n",
       "│ DATUM      ┆ FILIALE ┆ PRODUKT ┆ SALES │\n",
       "│ ---        ┆ ---     ┆ ---     ┆ ---   │\n",
       "│ date       ┆ str     ┆ str     ┆ i64   │\n",
       "╞════════════╪═════════╪═════════╪═══════╡\n",
       "│ 2023-01-02 ┆ B307    ┆ 207775  ┆ 10    │\n",
       "│ 2023-01-03 ┆ B307    ┆ 207775  ┆ 2     │\n",
       "│ 2023-01-04 ┆ B307    ┆ 207775  ┆ 7     │\n",
       "│ 2023-01-05 ┆ B307    ┆ 207775  ┆ 14    │\n",
       "│ 2023-01-06 ┆ B307    ┆ 207775  ┆ 12    │\n",
       "│ …          ┆ …       ┆ …       ┆ …     │\n",
       "│ 2023-12-23 ┆ B307    ┆ 207775  ┆ 16    │\n",
       "│ 2023-12-27 ┆ B307    ┆ 207775  ┆ 5     │\n",
       "│ 2023-12-28 ┆ B307    ┆ 207775  ┆ 3     │\n",
       "│ 2023-12-29 ┆ B307    ┆ 207775  ┆ 5     │\n",
       "│ 2023-12-30 ┆ B307    ┆ 207775  ┆ 8     │\n",
       "└────────────┴─────────┴─────────┴───────┘"
      ]
     },
     "execution_count": 15,
     "metadata": {},
     "output_type": "execute_result"
    }
   ],
   "source": [
    "polars_df.filter(\n",
    "    pl.col(\"FILIALE\") == \"B307\"\n",
    ")"
   ]
  },
  {
   "cell_type": "code",
   "execution_count": 17,
   "metadata": {},
   "outputs": [
    {
     "data": {
      "text/html": [
       "<div><style>\n",
       ".dataframe > thead > tr,\n",
       ".dataframe > tbody > tr {\n",
       "  text-align: right;\n",
       "  white-space: pre-wrap;\n",
       "}\n",
       "</style>\n",
       "<small>shape: (563_157, 5)</small><table border=\"1\" class=\"dataframe\"><thead><tr><th>DATUM</th><th>FILIALE</th><th>PRODUKT</th><th>SALES</th><th>store and product</th></tr><tr><td>date</td><td>str</td><td>str</td><td>i64</td><td>str</td></tr></thead><tbody><tr><td>2023-01-02</td><td>&quot;B307&quot;</td><td>&quot;207775&quot;</td><td>10</td><td>&quot;B307 207775&quot;</td></tr><tr><td>2023-01-02</td><td>&quot;B558&quot;</td><td>&quot;207775&quot;</td><td>22</td><td>&quot;B558 207775&quot;</td></tr><tr><td>2023-01-02</td><td>&quot;BP10&quot;</td><td>&quot;207775&quot;</td><td>14</td><td>&quot;BP10 207775&quot;</td></tr><tr><td>2023-01-02</td><td>&quot;BQ02&quot;</td><td>&quot;207775&quot;</td><td>14</td><td>&quot;BQ02 207775&quot;</td></tr><tr><td>2023-01-02</td><td>&quot;B657&quot;</td><td>&quot;207775&quot;</td><td>5</td><td>&quot;B657 207775&quot;</td></tr><tr><td>&hellip;</td><td>&hellip;</td><td>&hellip;</td><td>&hellip;</td><td>&hellip;</td></tr><tr><td>2023-12-30</td><td>&quot;B366&quot;</td><td>&quot;207775&quot;</td><td>5</td><td>&quot;B366 207775&quot;</td></tr><tr><td>2023-12-30</td><td>&quot;BT48&quot;</td><td>&quot;207775&quot;</td><td>10</td><td>&quot;BT48 207775&quot;</td></tr><tr><td>2023-12-30</td><td>&quot;B041&quot;</td><td>&quot;207775&quot;</td><td>28</td><td>&quot;B041 207775&quot;</td></tr><tr><td>2023-12-30</td><td>&quot;BM18&quot;</td><td>&quot;207775&quot;</td><td>8</td><td>&quot;BM18 207775&quot;</td></tr><tr><td>2023-12-30</td><td>&quot;BN56&quot;</td><td>&quot;207775&quot;</td><td>16</td><td>&quot;BN56 207775&quot;</td></tr></tbody></table></div>"
      ],
      "text/plain": [
       "shape: (563_157, 5)\n",
       "┌────────────┬─────────┬─────────┬───────┬───────────────────┐\n",
       "│ DATUM      ┆ FILIALE ┆ PRODUKT ┆ SALES ┆ store and product │\n",
       "│ ---        ┆ ---     ┆ ---     ┆ ---   ┆ ---               │\n",
       "│ date       ┆ str     ┆ str     ┆ i64   ┆ str               │\n",
       "╞════════════╪═════════╪═════════╪═══════╪═══════════════════╡\n",
       "│ 2023-01-02 ┆ B307    ┆ 207775  ┆ 10    ┆ B307 207775       │\n",
       "│ 2023-01-02 ┆ B558    ┆ 207775  ┆ 22    ┆ B558 207775       │\n",
       "│ 2023-01-02 ┆ BP10    ┆ 207775  ┆ 14    ┆ BP10 207775       │\n",
       "│ 2023-01-02 ┆ BQ02    ┆ 207775  ┆ 14    ┆ BQ02 207775       │\n",
       "│ 2023-01-02 ┆ B657    ┆ 207775  ┆ 5     ┆ B657 207775       │\n",
       "│ …          ┆ …       ┆ …       ┆ …     ┆ …                 │\n",
       "│ 2023-12-30 ┆ B366    ┆ 207775  ┆ 5     ┆ B366 207775       │\n",
       "│ 2023-12-30 ┆ BT48    ┆ 207775  ┆ 10    ┆ BT48 207775       │\n",
       "│ 2023-12-30 ┆ B041    ┆ 207775  ┆ 28    ┆ B041 207775       │\n",
       "│ 2023-12-30 ┆ BM18    ┆ 207775  ┆ 8     ┆ BM18 207775       │\n",
       "│ 2023-12-30 ┆ BN56    ┆ 207775  ┆ 16    ┆ BN56 207775       │\n",
       "└────────────┴─────────┴─────────┴───────┴───────────────────┘"
      ]
     },
     "execution_count": 17,
     "metadata": {},
     "output_type": "execute_result"
    }
   ],
   "source": [
    "polars_df.with_columns(\n",
    "    (pl.col(\"FILIALE\") + \" \" + pl.col(\"PRODUKT\")).alias(\"store and product\")\n",
    ")"
   ]
  }
 ],
 "metadata": {
  "kernelspec": {
   "display_name": "Python 3",
   "language": "python",
   "name": "python3"
  },
  "language_info": {
   "codemirror_mode": {
    "name": "ipython",
    "version": 3
   },
   "file_extension": ".py",
   "mimetype": "text/x-python",
   "name": "python",
   "nbconvert_exporter": "python",
   "pygments_lexer": "ipython3",
   "version": "3.11.9"
  }
 },
 "nbformat": 4,
 "nbformat_minor": 2
}
